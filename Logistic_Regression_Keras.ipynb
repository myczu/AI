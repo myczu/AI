{
  "cells": [
    {
      "cell_type": "markdown",
      "metadata": {
        "id": "view-in-github",
        "colab_type": "text"
      },
      "source": [
        "<a href=\"https://colab.research.google.com/github/myczu/AI/blob/main/Logistic_Regression_Keras.ipynb\" target=\"_parent\"><img src=\"https://colab.research.google.com/assets/colab-badge.svg\" alt=\"Open In Colab\"/></a>"
      ]
    },
    {
      "cell_type": "markdown",
      "metadata": {
        "id": "h-lrQuoFmMMV"
      },
      "source": [
        "# Census Income Example\n",
        "This is a Keras example of classification problem. To simplify the data preparation part I used the Census problem from the Sci-Kit Learn class.\n",
        "\n",
        "The dataset comes from http://archive.ics.uci.edu/.\n",
        "\n",
        "Data extraction was done by Barry Becker from the 1994 Census database. A set of reasonably clean records was extracted using the following conditions: ((AAGE>16) && (AGI>100) && (AFNLWGT>1)&& (HRSWK>0)). The data was also preprocessed for the purpose of this example.\n",
        "\n",
        "Prediction task is to determine whether a person makes over 50K a year.\n",
        "\n",
        "\n",
        "### List of attributes:\n",
        "\n",
        "##### Features\n",
        "- age: continuous.\n",
        "- workclass: Private, Self-emp-not-inc, Self-emp-inc, Federal-gov, Local-gov, State-gov, Without-pay, Never-worked.\n",
        "- education: Bachelors, Some-college, 11th, HS-grad, Prof-school, Assoc-acdm, Assoc-voc, 9th, 7th-8th, 12th, Masters, 1st-4th, - 10th, Doctorate, 5th-6th, Preschool.\n",
        "- education-num: continuous.\n",
        "- marital-status: Married-civ-spouse, Divorced, Never-married, Separated, Widowed, Married-spouse-absent, Married-AF-spouse.\n",
        "- occupation: Tech-support, Craft-repair, Other-service, Sales, Exec-managerial, Prof-specialty, Handlers-cleaners, Machine-op-inspct, Adm-clerical, Farming-fishing, Transport-moving, Priv-house-serv, Protective-serv, Armed-Forces.\n",
        "- relationship: Wife, Own-child, Husband, Not-in-family, Other-relative, Unmarried.\n",
        "- race: White, Asian-Pac-Islander, Amer-Indian-Eskimo, Other, Black.\n",
        "- sex: Female, Male.\n",
        "- hours-per-week: continuous.\n",
        "- native-country: United-States, Cambodia, England, Puerto-Rico, Canada, Germany, Outlying-US(Guam-USVI-etc), India, Japan, Greece, South, China, Cuba, Iran, Honduras, Philippines, Italy, Poland, Jamaica, Vietnam, Mexico, Portugal, Ireland, France, Dominican-Republic, Laos, Ecuador, Taiwan, Haiti, Columbia, Hungary, Guatemala, Nicaragua, Scotland, Thailand, Yugoslavia, El-Salvador, Trinadad&Tobago, Peru, Hong, Holand-Netherlands.\n",
        "\n",
        "\n",
        "\n",
        "##### Labels\n",
        "- income - >50K, <=50K."
      ]
    },
    {
      "cell_type": "markdown",
      "metadata": {
        "id": "6Y02gXsjmMMX"
      },
      "source": [
        "# Install tensorflow\n",
        "If necessary uncomment one of the lines below"
      ]
    },
    {
      "cell_type": "code",
      "execution_count": null,
      "metadata": {
        "id": "ih_kS0MlmMMX",
        "colab": {
          "base_uri": "https://localhost:8080/"
        },
        "outputId": "c060286e-c239-4c9c-a901-dab9ffe3f2ff"
      },
      "outputs": [
        {
          "output_type": "stream",
          "name": "stdout",
          "text": [
            "Looking in indexes: https://pypi.org/simple, https://us-python.pkg.dev/colab-wheels/public/simple/\n",
            "Requirement already satisfied: tensorflow in /usr/local/lib/python3.10/dist-packages (2.12.0)\n",
            "Requirement already satisfied: absl-py>=1.0.0 in /usr/local/lib/python3.10/dist-packages (from tensorflow) (1.4.0)\n",
            "Requirement already satisfied: astunparse>=1.6.0 in /usr/local/lib/python3.10/dist-packages (from tensorflow) (1.6.3)\n",
            "Requirement already satisfied: flatbuffers>=2.0 in /usr/local/lib/python3.10/dist-packages (from tensorflow) (23.3.3)\n",
            "Requirement already satisfied: gast<=0.4.0,>=0.2.1 in /usr/local/lib/python3.10/dist-packages (from tensorflow) (0.4.0)\n",
            "Requirement already satisfied: google-pasta>=0.1.1 in /usr/local/lib/python3.10/dist-packages (from tensorflow) (0.2.0)\n",
            "Requirement already satisfied: grpcio<2.0,>=1.24.3 in /usr/local/lib/python3.10/dist-packages (from tensorflow) (1.54.0)\n",
            "Requirement already satisfied: h5py>=2.9.0 in /usr/local/lib/python3.10/dist-packages (from tensorflow) (3.8.0)\n",
            "Requirement already satisfied: jax>=0.3.15 in /usr/local/lib/python3.10/dist-packages (from tensorflow) (0.4.10)\n",
            "Requirement already satisfied: keras<2.13,>=2.12.0 in /usr/local/lib/python3.10/dist-packages (from tensorflow) (2.12.0)\n",
            "Requirement already satisfied: libclang>=13.0.0 in /usr/local/lib/python3.10/dist-packages (from tensorflow) (16.0.0)\n",
            "Requirement already satisfied: numpy<1.24,>=1.22 in /usr/local/lib/python3.10/dist-packages (from tensorflow) (1.22.4)\n",
            "Requirement already satisfied: opt-einsum>=2.3.2 in /usr/local/lib/python3.10/dist-packages (from tensorflow) (3.3.0)\n",
            "Requirement already satisfied: packaging in /usr/local/lib/python3.10/dist-packages (from tensorflow) (23.1)\n",
            "Requirement already satisfied: protobuf!=4.21.0,!=4.21.1,!=4.21.2,!=4.21.3,!=4.21.4,!=4.21.5,<5.0.0dev,>=3.20.3 in /usr/local/lib/python3.10/dist-packages (from tensorflow) (3.20.3)\n",
            "Requirement already satisfied: setuptools in /usr/local/lib/python3.10/dist-packages (from tensorflow) (67.7.2)\n",
            "Requirement already satisfied: six>=1.12.0 in /usr/local/lib/python3.10/dist-packages (from tensorflow) (1.16.0)\n",
            "Requirement already satisfied: tensorboard<2.13,>=2.12 in /usr/local/lib/python3.10/dist-packages (from tensorflow) (2.12.2)\n",
            "Requirement already satisfied: tensorflow-estimator<2.13,>=2.12.0 in /usr/local/lib/python3.10/dist-packages (from tensorflow) (2.12.0)\n",
            "Requirement already satisfied: termcolor>=1.1.0 in /usr/local/lib/python3.10/dist-packages (from tensorflow) (2.3.0)\n",
            "Requirement already satisfied: typing-extensions>=3.6.6 in /usr/local/lib/python3.10/dist-packages (from tensorflow) (4.5.0)\n",
            "Requirement already satisfied: wrapt<1.15,>=1.11.0 in /usr/local/lib/python3.10/dist-packages (from tensorflow) (1.14.1)\n",
            "Requirement already satisfied: tensorflow-io-gcs-filesystem>=0.23.1 in /usr/local/lib/python3.10/dist-packages (from tensorflow) (0.32.0)\n",
            "Requirement already satisfied: wheel<1.0,>=0.23.0 in /usr/local/lib/python3.10/dist-packages (from astunparse>=1.6.0->tensorflow) (0.40.0)\n",
            "Requirement already satisfied: ml-dtypes>=0.1.0 in /usr/local/lib/python3.10/dist-packages (from jax>=0.3.15->tensorflow) (0.1.0)\n",
            "Requirement already satisfied: scipy>=1.7 in /usr/local/lib/python3.10/dist-packages (from jax>=0.3.15->tensorflow) (1.10.1)\n",
            "Requirement already satisfied: google-auth<3,>=1.6.3 in /usr/local/lib/python3.10/dist-packages (from tensorboard<2.13,>=2.12->tensorflow) (2.17.3)\n",
            "Requirement already satisfied: google-auth-oauthlib<1.1,>=0.5 in /usr/local/lib/python3.10/dist-packages (from tensorboard<2.13,>=2.12->tensorflow) (1.0.0)\n",
            "Requirement already satisfied: markdown>=2.6.8 in /usr/local/lib/python3.10/dist-packages (from tensorboard<2.13,>=2.12->tensorflow) (3.4.3)\n",
            "Requirement already satisfied: requests<3,>=2.21.0 in /usr/local/lib/python3.10/dist-packages (from tensorboard<2.13,>=2.12->tensorflow) (2.27.1)\n",
            "Requirement already satisfied: tensorboard-data-server<0.8.0,>=0.7.0 in /usr/local/lib/python3.10/dist-packages (from tensorboard<2.13,>=2.12->tensorflow) (0.7.0)\n",
            "Requirement already satisfied: tensorboard-plugin-wit>=1.6.0 in /usr/local/lib/python3.10/dist-packages (from tensorboard<2.13,>=2.12->tensorflow) (1.8.1)\n",
            "Requirement already satisfied: werkzeug>=1.0.1 in /usr/local/lib/python3.10/dist-packages (from tensorboard<2.13,>=2.12->tensorflow) (2.3.0)\n",
            "Requirement already satisfied: cachetools<6.0,>=2.0.0 in /usr/local/lib/python3.10/dist-packages (from google-auth<3,>=1.6.3->tensorboard<2.13,>=2.12->tensorflow) (5.3.0)\n",
            "Requirement already satisfied: pyasn1-modules>=0.2.1 in /usr/local/lib/python3.10/dist-packages (from google-auth<3,>=1.6.3->tensorboard<2.13,>=2.12->tensorflow) (0.3.0)\n",
            "Requirement already satisfied: rsa<5,>=3.1.4 in /usr/local/lib/python3.10/dist-packages (from google-auth<3,>=1.6.3->tensorboard<2.13,>=2.12->tensorflow) (4.9)\n",
            "Requirement already satisfied: requests-oauthlib>=0.7.0 in /usr/local/lib/python3.10/dist-packages (from google-auth-oauthlib<1.1,>=0.5->tensorboard<2.13,>=2.12->tensorflow) (1.3.1)\n",
            "Requirement already satisfied: urllib3<1.27,>=1.21.1 in /usr/local/lib/python3.10/dist-packages (from requests<3,>=2.21.0->tensorboard<2.13,>=2.12->tensorflow) (1.26.15)\n",
            "Requirement already satisfied: certifi>=2017.4.17 in /usr/local/lib/python3.10/dist-packages (from requests<3,>=2.21.0->tensorboard<2.13,>=2.12->tensorflow) (2022.12.7)\n",
            "Requirement already satisfied: charset-normalizer~=2.0.0 in /usr/local/lib/python3.10/dist-packages (from requests<3,>=2.21.0->tensorboard<2.13,>=2.12->tensorflow) (2.0.12)\n",
            "Requirement already satisfied: idna<4,>=2.5 in /usr/local/lib/python3.10/dist-packages (from requests<3,>=2.21.0->tensorboard<2.13,>=2.12->tensorflow) (3.4)\n",
            "Requirement already satisfied: MarkupSafe>=2.1.1 in /usr/local/lib/python3.10/dist-packages (from werkzeug>=1.0.1->tensorboard<2.13,>=2.12->tensorflow) (2.1.2)\n",
            "Requirement already satisfied: pyasn1<0.6.0,>=0.4.6 in /usr/local/lib/python3.10/dist-packages (from pyasn1-modules>=0.2.1->google-auth<3,>=1.6.3->tensorboard<2.13,>=2.12->tensorflow) (0.5.0)\n",
            "Requirement already satisfied: oauthlib>=3.0.0 in /usr/local/lib/python3.10/dist-packages (from requests-oauthlib>=0.7.0->google-auth-oauthlib<1.1,>=0.5->tensorboard<2.13,>=2.12->tensorflow) (3.2.2)\n"
          ]
        }
      ],
      "source": [
        "# Tensorflow installation - uncomment if necessary\n",
        "!pip install tensorflow"
      ]
    },
    {
      "cell_type": "markdown",
      "metadata": {
        "id": "OfCb6KEEmMMY"
      },
      "source": [
        "# Imports"
      ]
    },
    {
      "cell_type": "code",
      "execution_count": null,
      "metadata": {
        "id": "XlxfbOlhmMMZ"
      },
      "outputs": [],
      "source": [
        "import pandas as pd\n",
        "import numpy as np\n",
        "import tensorflow as tf\n",
        "\n",
        "import matplotlib.pyplot as plt\n",
        "%matplotlib inline"
      ]
    },
    {
      "cell_type": "markdown",
      "metadata": {
        "id": "K2TJ4Qb7mMMa"
      },
      "source": [
        "### Load dataset"
      ]
    },
    {
      "cell_type": "code",
      "execution_count": null,
      "metadata": {
        "colab": {
          "base_uri": "https://localhost:8080/",
          "height": 428
        },
        "id": "gvU1TEUWmMMa",
        "outputId": "8d529e06-3815-4c26-af20-51796e5e270e"
      },
      "outputs": [
        {
          "output_type": "stream",
          "name": "stdout",
          "text": [
            "(32561, 12)\n",
            "Index(['age', 'workclass', 'education', 'education-num', 'marital-status',\n",
            "       'occupation', 'relationship', 'race', 'sex', 'hours-per-week',\n",
            "       'native-country', 'income'],\n",
            "      dtype='object')\n"
          ]
        },
        {
          "output_type": "execute_result",
          "data": {
            "text/plain": [
              "   age         workclass  education  education-num      marital-status  \\\n",
              "0   39         State-gov  Bachelors             13       Never-married   \n",
              "1   50  Self-emp-not-inc  Bachelors             13  Married-civ-spouse   \n",
              "2   38           Private    HS-grad              9            Divorced   \n",
              "3   53           Private       11th              7  Married-civ-spouse   \n",
              "4   28           Private  Bachelors             13  Married-civ-spouse   \n",
              "\n",
              "          occupation   relationship   race     sex  hours-per-week  \\\n",
              "0       Adm-clerical  Not-in-family  White    Male              40   \n",
              "1    Exec-managerial        Husband  White    Male              13   \n",
              "2  Handlers-cleaners  Not-in-family  White    Male              40   \n",
              "3  Handlers-cleaners        Husband  Black    Male              40   \n",
              "4     Prof-specialty           Wife  Black  Female              40   \n",
              "\n",
              "  native-country income  \n",
              "0  United-States  <=50K  \n",
              "1  United-States  <=50K  \n",
              "2  United-States  <=50K  \n",
              "3  United-States  <=50K  \n",
              "4           Cuba  <=50K  "
            ],
            "text/html": [
              "\n",
              "  <div id=\"df-8240c616-1669-4177-ae5e-b682bac9de29\">\n",
              "    <div class=\"colab-df-container\">\n",
              "      <div>\n",
              "<style scoped>\n",
              "    .dataframe tbody tr th:only-of-type {\n",
              "        vertical-align: middle;\n",
              "    }\n",
              "\n",
              "    .dataframe tbody tr th {\n",
              "        vertical-align: top;\n",
              "    }\n",
              "\n",
              "    .dataframe thead th {\n",
              "        text-align: right;\n",
              "    }\n",
              "</style>\n",
              "<table border=\"1\" class=\"dataframe\">\n",
              "  <thead>\n",
              "    <tr style=\"text-align: right;\">\n",
              "      <th></th>\n",
              "      <th>age</th>\n",
              "      <th>workclass</th>\n",
              "      <th>education</th>\n",
              "      <th>education-num</th>\n",
              "      <th>marital-status</th>\n",
              "      <th>occupation</th>\n",
              "      <th>relationship</th>\n",
              "      <th>race</th>\n",
              "      <th>sex</th>\n",
              "      <th>hours-per-week</th>\n",
              "      <th>native-country</th>\n",
              "      <th>income</th>\n",
              "    </tr>\n",
              "  </thead>\n",
              "  <tbody>\n",
              "    <tr>\n",
              "      <th>0</th>\n",
              "      <td>39</td>\n",
              "      <td>State-gov</td>\n",
              "      <td>Bachelors</td>\n",
              "      <td>13</td>\n",
              "      <td>Never-married</td>\n",
              "      <td>Adm-clerical</td>\n",
              "      <td>Not-in-family</td>\n",
              "      <td>White</td>\n",
              "      <td>Male</td>\n",
              "      <td>40</td>\n",
              "      <td>United-States</td>\n",
              "      <td>&lt;=50K</td>\n",
              "    </tr>\n",
              "    <tr>\n",
              "      <th>1</th>\n",
              "      <td>50</td>\n",
              "      <td>Self-emp-not-inc</td>\n",
              "      <td>Bachelors</td>\n",
              "      <td>13</td>\n",
              "      <td>Married-civ-spouse</td>\n",
              "      <td>Exec-managerial</td>\n",
              "      <td>Husband</td>\n",
              "      <td>White</td>\n",
              "      <td>Male</td>\n",
              "      <td>13</td>\n",
              "      <td>United-States</td>\n",
              "      <td>&lt;=50K</td>\n",
              "    </tr>\n",
              "    <tr>\n",
              "      <th>2</th>\n",
              "      <td>38</td>\n",
              "      <td>Private</td>\n",
              "      <td>HS-grad</td>\n",
              "      <td>9</td>\n",
              "      <td>Divorced</td>\n",
              "      <td>Handlers-cleaners</td>\n",
              "      <td>Not-in-family</td>\n",
              "      <td>White</td>\n",
              "      <td>Male</td>\n",
              "      <td>40</td>\n",
              "      <td>United-States</td>\n",
              "      <td>&lt;=50K</td>\n",
              "    </tr>\n",
              "    <tr>\n",
              "      <th>3</th>\n",
              "      <td>53</td>\n",
              "      <td>Private</td>\n",
              "      <td>11th</td>\n",
              "      <td>7</td>\n",
              "      <td>Married-civ-spouse</td>\n",
              "      <td>Handlers-cleaners</td>\n",
              "      <td>Husband</td>\n",
              "      <td>Black</td>\n",
              "      <td>Male</td>\n",
              "      <td>40</td>\n",
              "      <td>United-States</td>\n",
              "      <td>&lt;=50K</td>\n",
              "    </tr>\n",
              "    <tr>\n",
              "      <th>4</th>\n",
              "      <td>28</td>\n",
              "      <td>Private</td>\n",
              "      <td>Bachelors</td>\n",
              "      <td>13</td>\n",
              "      <td>Married-civ-spouse</td>\n",
              "      <td>Prof-specialty</td>\n",
              "      <td>Wife</td>\n",
              "      <td>Black</td>\n",
              "      <td>Female</td>\n",
              "      <td>40</td>\n",
              "      <td>Cuba</td>\n",
              "      <td>&lt;=50K</td>\n",
              "    </tr>\n",
              "  </tbody>\n",
              "</table>\n",
              "</div>\n",
              "      <button class=\"colab-df-convert\" onclick=\"convertToInteractive('df-8240c616-1669-4177-ae5e-b682bac9de29')\"\n",
              "              title=\"Convert this dataframe to an interactive table.\"\n",
              "              style=\"display:none;\">\n",
              "        \n",
              "  <svg xmlns=\"http://www.w3.org/2000/svg\" height=\"24px\"viewBox=\"0 0 24 24\"\n",
              "       width=\"24px\">\n",
              "    <path d=\"M0 0h24v24H0V0z\" fill=\"none\"/>\n",
              "    <path d=\"M18.56 5.44l.94 2.06.94-2.06 2.06-.94-2.06-.94-.94-2.06-.94 2.06-2.06.94zm-11 1L8.5 8.5l.94-2.06 2.06-.94-2.06-.94L8.5 2.5l-.94 2.06-2.06.94zm10 10l.94 2.06.94-2.06 2.06-.94-2.06-.94-.94-2.06-.94 2.06-2.06.94z\"/><path d=\"M17.41 7.96l-1.37-1.37c-.4-.4-.92-.59-1.43-.59-.52 0-1.04.2-1.43.59L10.3 9.45l-7.72 7.72c-.78.78-.78 2.05 0 2.83L4 21.41c.39.39.9.59 1.41.59.51 0 1.02-.2 1.41-.59l7.78-7.78 2.81-2.81c.8-.78.8-2.07 0-2.86zM5.41 20L4 18.59l7.72-7.72 1.47 1.35L5.41 20z\"/>\n",
              "  </svg>\n",
              "      </button>\n",
              "      \n",
              "  <style>\n",
              "    .colab-df-container {\n",
              "      display:flex;\n",
              "      flex-wrap:wrap;\n",
              "      gap: 12px;\n",
              "    }\n",
              "\n",
              "    .colab-df-convert {\n",
              "      background-color: #E8F0FE;\n",
              "      border: none;\n",
              "      border-radius: 50%;\n",
              "      cursor: pointer;\n",
              "      display: none;\n",
              "      fill: #1967D2;\n",
              "      height: 32px;\n",
              "      padding: 0 0 0 0;\n",
              "      width: 32px;\n",
              "    }\n",
              "\n",
              "    .colab-df-convert:hover {\n",
              "      background-color: #E2EBFA;\n",
              "      box-shadow: 0px 1px 2px rgba(60, 64, 67, 0.3), 0px 1px 3px 1px rgba(60, 64, 67, 0.15);\n",
              "      fill: #174EA6;\n",
              "    }\n",
              "\n",
              "    [theme=dark] .colab-df-convert {\n",
              "      background-color: #3B4455;\n",
              "      fill: #D2E3FC;\n",
              "    }\n",
              "\n",
              "    [theme=dark] .colab-df-convert:hover {\n",
              "      background-color: #434B5C;\n",
              "      box-shadow: 0px 1px 3px 1px rgba(0, 0, 0, 0.15);\n",
              "      filter: drop-shadow(0px 1px 2px rgba(0, 0, 0, 0.3));\n",
              "      fill: #FFFFFF;\n",
              "    }\n",
              "  </style>\n",
              "\n",
              "      <script>\n",
              "        const buttonEl =\n",
              "          document.querySelector('#df-8240c616-1669-4177-ae5e-b682bac9de29 button.colab-df-convert');\n",
              "        buttonEl.style.display =\n",
              "          google.colab.kernel.accessAllowed ? 'block' : 'none';\n",
              "\n",
              "        async function convertToInteractive(key) {\n",
              "          const element = document.querySelector('#df-8240c616-1669-4177-ae5e-b682bac9de29');\n",
              "          const dataTable =\n",
              "            await google.colab.kernel.invokeFunction('convertToInteractive',\n",
              "                                                     [key], {});\n",
              "          if (!dataTable) return;\n",
              "\n",
              "          const docLinkHtml = 'Like what you see? Visit the ' +\n",
              "            '<a target=\"_blank\" href=https://colab.research.google.com/notebooks/data_table.ipynb>data table notebook</a>'\n",
              "            + ' to learn more about interactive tables.';\n",
              "          element.innerHTML = '';\n",
              "          dataTable['output_type'] = 'display_data';\n",
              "          await google.colab.output.renderOutput(dataTable, element);\n",
              "          const docLink = document.createElement('div');\n",
              "          docLink.innerHTML = docLinkHtml;\n",
              "          element.appendChild(docLink);\n",
              "        }\n",
              "      </script>\n",
              "    </div>\n",
              "  </div>\n",
              "  "
            ]
          },
          "metadata": {},
          "execution_count": 3
        }
      ],
      "source": [
        "df = pd.read_csv(\"https://github.com/PrzemekSekula/DeepLearningClasses1/raw/master/data/census.csv\")\n",
        "\n",
        "print (df.shape)\n",
        "print (df.columns)\n",
        "df.head()"
      ]
    },
    {
      "cell_type": "markdown",
      "metadata": {
        "id": "1CuT-On6mMMa"
      },
      "source": [
        "# Data preparation\n",
        "### Selecting columns\n",
        "Personaly I decided to delete the following columns:\n",
        "- education - we have education-num, this is enough\n",
        "- marital status - too many classes\n",
        "- relationship - I am not sure if it is useful, and there are many classes\n",
        "- race - I am not sure if it is useful\n",
        "- native-country - too many classes\n",
        "\n",
        "**I deleted many columns just to make the task easier to read. Students are encouraged to experiment with the columns and check if they can improve the results.**\n"
      ]
    },
    {
      "cell_type": "code",
      "execution_count": null,
      "metadata": {
        "colab": {
          "base_uri": "https://localhost:8080/",
          "height": 206
        },
        "id": "nQkxzORwmMMb",
        "outputId": "83f1358e-566f-4141-fd86-177019ee4e1a"
      },
      "outputs": [
        {
          "output_type": "execute_result",
          "data": {
            "text/plain": [
              "   age         workclass  education-num         occupation     sex  \\\n",
              "0   39         State-gov             13       Adm-clerical    Male   \n",
              "1   50  Self-emp-not-inc             13    Exec-managerial    Male   \n",
              "2   38           Private              9  Handlers-cleaners    Male   \n",
              "3   53           Private              7  Handlers-cleaners    Male   \n",
              "4   28           Private             13     Prof-specialty  Female   \n",
              "\n",
              "   hours-per-week income  \n",
              "0              40  <=50K  \n",
              "1              13  <=50K  \n",
              "2              40  <=50K  \n",
              "3              40  <=50K  \n",
              "4              40  <=50K  "
            ],
            "text/html": [
              "\n",
              "  <div id=\"df-078286dd-6a8e-4d88-b4e7-c66aa61adef4\">\n",
              "    <div class=\"colab-df-container\">\n",
              "      <div>\n",
              "<style scoped>\n",
              "    .dataframe tbody tr th:only-of-type {\n",
              "        vertical-align: middle;\n",
              "    }\n",
              "\n",
              "    .dataframe tbody tr th {\n",
              "        vertical-align: top;\n",
              "    }\n",
              "\n",
              "    .dataframe thead th {\n",
              "        text-align: right;\n",
              "    }\n",
              "</style>\n",
              "<table border=\"1\" class=\"dataframe\">\n",
              "  <thead>\n",
              "    <tr style=\"text-align: right;\">\n",
              "      <th></th>\n",
              "      <th>age</th>\n",
              "      <th>workclass</th>\n",
              "      <th>education-num</th>\n",
              "      <th>occupation</th>\n",
              "      <th>sex</th>\n",
              "      <th>hours-per-week</th>\n",
              "      <th>income</th>\n",
              "    </tr>\n",
              "  </thead>\n",
              "  <tbody>\n",
              "    <tr>\n",
              "      <th>0</th>\n",
              "      <td>39</td>\n",
              "      <td>State-gov</td>\n",
              "      <td>13</td>\n",
              "      <td>Adm-clerical</td>\n",
              "      <td>Male</td>\n",
              "      <td>40</td>\n",
              "      <td>&lt;=50K</td>\n",
              "    </tr>\n",
              "    <tr>\n",
              "      <th>1</th>\n",
              "      <td>50</td>\n",
              "      <td>Self-emp-not-inc</td>\n",
              "      <td>13</td>\n",
              "      <td>Exec-managerial</td>\n",
              "      <td>Male</td>\n",
              "      <td>13</td>\n",
              "      <td>&lt;=50K</td>\n",
              "    </tr>\n",
              "    <tr>\n",
              "      <th>2</th>\n",
              "      <td>38</td>\n",
              "      <td>Private</td>\n",
              "      <td>9</td>\n",
              "      <td>Handlers-cleaners</td>\n",
              "      <td>Male</td>\n",
              "      <td>40</td>\n",
              "      <td>&lt;=50K</td>\n",
              "    </tr>\n",
              "    <tr>\n",
              "      <th>3</th>\n",
              "      <td>53</td>\n",
              "      <td>Private</td>\n",
              "      <td>7</td>\n",
              "      <td>Handlers-cleaners</td>\n",
              "      <td>Male</td>\n",
              "      <td>40</td>\n",
              "      <td>&lt;=50K</td>\n",
              "    </tr>\n",
              "    <tr>\n",
              "      <th>4</th>\n",
              "      <td>28</td>\n",
              "      <td>Private</td>\n",
              "      <td>13</td>\n",
              "      <td>Prof-specialty</td>\n",
              "      <td>Female</td>\n",
              "      <td>40</td>\n",
              "      <td>&lt;=50K</td>\n",
              "    </tr>\n",
              "  </tbody>\n",
              "</table>\n",
              "</div>\n",
              "      <button class=\"colab-df-convert\" onclick=\"convertToInteractive('df-078286dd-6a8e-4d88-b4e7-c66aa61adef4')\"\n",
              "              title=\"Convert this dataframe to an interactive table.\"\n",
              "              style=\"display:none;\">\n",
              "        \n",
              "  <svg xmlns=\"http://www.w3.org/2000/svg\" height=\"24px\"viewBox=\"0 0 24 24\"\n",
              "       width=\"24px\">\n",
              "    <path d=\"M0 0h24v24H0V0z\" fill=\"none\"/>\n",
              "    <path d=\"M18.56 5.44l.94 2.06.94-2.06 2.06-.94-2.06-.94-.94-2.06-.94 2.06-2.06.94zm-11 1L8.5 8.5l.94-2.06 2.06-.94-2.06-.94L8.5 2.5l-.94 2.06-2.06.94zm10 10l.94 2.06.94-2.06 2.06-.94-2.06-.94-.94-2.06-.94 2.06-2.06.94z\"/><path d=\"M17.41 7.96l-1.37-1.37c-.4-.4-.92-.59-1.43-.59-.52 0-1.04.2-1.43.59L10.3 9.45l-7.72 7.72c-.78.78-.78 2.05 0 2.83L4 21.41c.39.39.9.59 1.41.59.51 0 1.02-.2 1.41-.59l7.78-7.78 2.81-2.81c.8-.78.8-2.07 0-2.86zM5.41 20L4 18.59l7.72-7.72 1.47 1.35L5.41 20z\"/>\n",
              "  </svg>\n",
              "      </button>\n",
              "      \n",
              "  <style>\n",
              "    .colab-df-container {\n",
              "      display:flex;\n",
              "      flex-wrap:wrap;\n",
              "      gap: 12px;\n",
              "    }\n",
              "\n",
              "    .colab-df-convert {\n",
              "      background-color: #E8F0FE;\n",
              "      border: none;\n",
              "      border-radius: 50%;\n",
              "      cursor: pointer;\n",
              "      display: none;\n",
              "      fill: #1967D2;\n",
              "      height: 32px;\n",
              "      padding: 0 0 0 0;\n",
              "      width: 32px;\n",
              "    }\n",
              "\n",
              "    .colab-df-convert:hover {\n",
              "      background-color: #E2EBFA;\n",
              "      box-shadow: 0px 1px 2px rgba(60, 64, 67, 0.3), 0px 1px 3px 1px rgba(60, 64, 67, 0.15);\n",
              "      fill: #174EA6;\n",
              "    }\n",
              "\n",
              "    [theme=dark] .colab-df-convert {\n",
              "      background-color: #3B4455;\n",
              "      fill: #D2E3FC;\n",
              "    }\n",
              "\n",
              "    [theme=dark] .colab-df-convert:hover {\n",
              "      background-color: #434B5C;\n",
              "      box-shadow: 0px 1px 3px 1px rgba(0, 0, 0, 0.15);\n",
              "      filter: drop-shadow(0px 1px 2px rgba(0, 0, 0, 0.3));\n",
              "      fill: #FFFFFF;\n",
              "    }\n",
              "  </style>\n",
              "\n",
              "      <script>\n",
              "        const buttonEl =\n",
              "          document.querySelector('#df-078286dd-6a8e-4d88-b4e7-c66aa61adef4 button.colab-df-convert');\n",
              "        buttonEl.style.display =\n",
              "          google.colab.kernel.accessAllowed ? 'block' : 'none';\n",
              "\n",
              "        async function convertToInteractive(key) {\n",
              "          const element = document.querySelector('#df-078286dd-6a8e-4d88-b4e7-c66aa61adef4');\n",
              "          const dataTable =\n",
              "            await google.colab.kernel.invokeFunction('convertToInteractive',\n",
              "                                                     [key], {});\n",
              "          if (!dataTable) return;\n",
              "\n",
              "          const docLinkHtml = 'Like what you see? Visit the ' +\n",
              "            '<a target=\"_blank\" href=https://colab.research.google.com/notebooks/data_table.ipynb>data table notebook</a>'\n",
              "            + ' to learn more about interactive tables.';\n",
              "          element.innerHTML = '';\n",
              "          dataTable['output_type'] = 'display_data';\n",
              "          await google.colab.output.renderOutput(dataTable, element);\n",
              "          const docLink = document.createElement('div');\n",
              "          docLink.innerHTML = docLinkHtml;\n",
              "          element.appendChild(docLink);\n",
              "        }\n",
              "      </script>\n",
              "    </div>\n",
              "  </div>\n",
              "  "
            ]
          },
          "metadata": {},
          "execution_count": 4
        }
      ],
      "source": [
        "df = df[['age', 'workclass', 'education-num', 'occupation',\n",
        "         'sex', 'hours-per-week', 'income']]\n",
        "\n",
        "df.head()"
      ]
    },
    {
      "cell_type": "markdown",
      "metadata": {
        "id": "yRUkqneqmMMb"
      },
      "source": [
        "### Data preprocessing"
      ]
    },
    {
      "cell_type": "markdown",
      "metadata": {
        "id": "WyN17p4gmMMb"
      },
      "source": [
        "#### First step - change the labels into binary values."
      ]
    },
    {
      "cell_type": "code",
      "execution_count": null,
      "metadata": {
        "colab": {
          "base_uri": "https://localhost:8080/",
          "height": 261
        },
        "id": "jMPXenGqmMMb",
        "outputId": "fa070ce2-8ca3-43da-b647-2f291a1ac598"
      },
      "outputs": [
        {
          "output_type": "stream",
          "name": "stdout",
          "text": [
            "0    24720\n",
            "1     7841\n",
            "Name: income, dtype: int64\n"
          ]
        },
        {
          "output_type": "execute_result",
          "data": {
            "text/plain": [
              "   age         workclass  education-num         occupation     sex  \\\n",
              "0   39         State-gov             13       Adm-clerical    Male   \n",
              "1   50  Self-emp-not-inc             13    Exec-managerial    Male   \n",
              "2   38           Private              9  Handlers-cleaners    Male   \n",
              "3   53           Private              7  Handlers-cleaners    Male   \n",
              "4   28           Private             13     Prof-specialty  Female   \n",
              "\n",
              "   hours-per-week  income  \n",
              "0              40       0  \n",
              "1              13       0  \n",
              "2              40       0  \n",
              "3              40       0  \n",
              "4              40       0  "
            ],
            "text/html": [
              "\n",
              "  <div id=\"df-4adffe65-e17a-48c3-9c09-5bc281a3e71c\">\n",
              "    <div class=\"colab-df-container\">\n",
              "      <div>\n",
              "<style scoped>\n",
              "    .dataframe tbody tr th:only-of-type {\n",
              "        vertical-align: middle;\n",
              "    }\n",
              "\n",
              "    .dataframe tbody tr th {\n",
              "        vertical-align: top;\n",
              "    }\n",
              "\n",
              "    .dataframe thead th {\n",
              "        text-align: right;\n",
              "    }\n",
              "</style>\n",
              "<table border=\"1\" class=\"dataframe\">\n",
              "  <thead>\n",
              "    <tr style=\"text-align: right;\">\n",
              "      <th></th>\n",
              "      <th>age</th>\n",
              "      <th>workclass</th>\n",
              "      <th>education-num</th>\n",
              "      <th>occupation</th>\n",
              "      <th>sex</th>\n",
              "      <th>hours-per-week</th>\n",
              "      <th>income</th>\n",
              "    </tr>\n",
              "  </thead>\n",
              "  <tbody>\n",
              "    <tr>\n",
              "      <th>0</th>\n",
              "      <td>39</td>\n",
              "      <td>State-gov</td>\n",
              "      <td>13</td>\n",
              "      <td>Adm-clerical</td>\n",
              "      <td>Male</td>\n",
              "      <td>40</td>\n",
              "      <td>0</td>\n",
              "    </tr>\n",
              "    <tr>\n",
              "      <th>1</th>\n",
              "      <td>50</td>\n",
              "      <td>Self-emp-not-inc</td>\n",
              "      <td>13</td>\n",
              "      <td>Exec-managerial</td>\n",
              "      <td>Male</td>\n",
              "      <td>13</td>\n",
              "      <td>0</td>\n",
              "    </tr>\n",
              "    <tr>\n",
              "      <th>2</th>\n",
              "      <td>38</td>\n",
              "      <td>Private</td>\n",
              "      <td>9</td>\n",
              "      <td>Handlers-cleaners</td>\n",
              "      <td>Male</td>\n",
              "      <td>40</td>\n",
              "      <td>0</td>\n",
              "    </tr>\n",
              "    <tr>\n",
              "      <th>3</th>\n",
              "      <td>53</td>\n",
              "      <td>Private</td>\n",
              "      <td>7</td>\n",
              "      <td>Handlers-cleaners</td>\n",
              "      <td>Male</td>\n",
              "      <td>40</td>\n",
              "      <td>0</td>\n",
              "    </tr>\n",
              "    <tr>\n",
              "      <th>4</th>\n",
              "      <td>28</td>\n",
              "      <td>Private</td>\n",
              "      <td>13</td>\n",
              "      <td>Prof-specialty</td>\n",
              "      <td>Female</td>\n",
              "      <td>40</td>\n",
              "      <td>0</td>\n",
              "    </tr>\n",
              "  </tbody>\n",
              "</table>\n",
              "</div>\n",
              "      <button class=\"colab-df-convert\" onclick=\"convertToInteractive('df-4adffe65-e17a-48c3-9c09-5bc281a3e71c')\"\n",
              "              title=\"Convert this dataframe to an interactive table.\"\n",
              "              style=\"display:none;\">\n",
              "        \n",
              "  <svg xmlns=\"http://www.w3.org/2000/svg\" height=\"24px\"viewBox=\"0 0 24 24\"\n",
              "       width=\"24px\">\n",
              "    <path d=\"M0 0h24v24H0V0z\" fill=\"none\"/>\n",
              "    <path d=\"M18.56 5.44l.94 2.06.94-2.06 2.06-.94-2.06-.94-.94-2.06-.94 2.06-2.06.94zm-11 1L8.5 8.5l.94-2.06 2.06-.94-2.06-.94L8.5 2.5l-.94 2.06-2.06.94zm10 10l.94 2.06.94-2.06 2.06-.94-2.06-.94-.94-2.06-.94 2.06-2.06.94z\"/><path d=\"M17.41 7.96l-1.37-1.37c-.4-.4-.92-.59-1.43-.59-.52 0-1.04.2-1.43.59L10.3 9.45l-7.72 7.72c-.78.78-.78 2.05 0 2.83L4 21.41c.39.39.9.59 1.41.59.51 0 1.02-.2 1.41-.59l7.78-7.78 2.81-2.81c.8-.78.8-2.07 0-2.86zM5.41 20L4 18.59l7.72-7.72 1.47 1.35L5.41 20z\"/>\n",
              "  </svg>\n",
              "      </button>\n",
              "      \n",
              "  <style>\n",
              "    .colab-df-container {\n",
              "      display:flex;\n",
              "      flex-wrap:wrap;\n",
              "      gap: 12px;\n",
              "    }\n",
              "\n",
              "    .colab-df-convert {\n",
              "      background-color: #E8F0FE;\n",
              "      border: none;\n",
              "      border-radius: 50%;\n",
              "      cursor: pointer;\n",
              "      display: none;\n",
              "      fill: #1967D2;\n",
              "      height: 32px;\n",
              "      padding: 0 0 0 0;\n",
              "      width: 32px;\n",
              "    }\n",
              "\n",
              "    .colab-df-convert:hover {\n",
              "      background-color: #E2EBFA;\n",
              "      box-shadow: 0px 1px 2px rgba(60, 64, 67, 0.3), 0px 1px 3px 1px rgba(60, 64, 67, 0.15);\n",
              "      fill: #174EA6;\n",
              "    }\n",
              "\n",
              "    [theme=dark] .colab-df-convert {\n",
              "      background-color: #3B4455;\n",
              "      fill: #D2E3FC;\n",
              "    }\n",
              "\n",
              "    [theme=dark] .colab-df-convert:hover {\n",
              "      background-color: #434B5C;\n",
              "      box-shadow: 0px 1px 3px 1px rgba(0, 0, 0, 0.15);\n",
              "      filter: drop-shadow(0px 1px 2px rgba(0, 0, 0, 0.3));\n",
              "      fill: #FFFFFF;\n",
              "    }\n",
              "  </style>\n",
              "\n",
              "      <script>\n",
              "        const buttonEl =\n",
              "          document.querySelector('#df-4adffe65-e17a-48c3-9c09-5bc281a3e71c button.colab-df-convert');\n",
              "        buttonEl.style.display =\n",
              "          google.colab.kernel.accessAllowed ? 'block' : 'none';\n",
              "\n",
              "        async function convertToInteractive(key) {\n",
              "          const element = document.querySelector('#df-4adffe65-e17a-48c3-9c09-5bc281a3e71c');\n",
              "          const dataTable =\n",
              "            await google.colab.kernel.invokeFunction('convertToInteractive',\n",
              "                                                     [key], {});\n",
              "          if (!dataTable) return;\n",
              "\n",
              "          const docLinkHtml = 'Like what you see? Visit the ' +\n",
              "            '<a target=\"_blank\" href=https://colab.research.google.com/notebooks/data_table.ipynb>data table notebook</a>'\n",
              "            + ' to learn more about interactive tables.';\n",
              "          element.innerHTML = '';\n",
              "          dataTable['output_type'] = 'display_data';\n",
              "          await google.colab.output.renderOutput(dataTable, element);\n",
              "          const docLink = document.createElement('div');\n",
              "          docLink.innerHTML = docLinkHtml;\n",
              "          element.appendChild(docLink);\n",
              "        }\n",
              "      </script>\n",
              "    </div>\n",
              "  </div>\n",
              "  "
            ]
          },
          "metadata": {},
          "execution_count": 5
        }
      ],
      "source": [
        "df.income = (df.income == '>50K').astype(int)\n",
        "print (df.income.value_counts())\n",
        "df.head()"
      ]
    },
    {
      "cell_type": "markdown",
      "metadata": {
        "id": "Yx1qU1EamMMc"
      },
      "source": [
        "#### Second step - change the `sex` column into binary values"
      ]
    },
    {
      "cell_type": "code",
      "execution_count": null,
      "metadata": {
        "colab": {
          "base_uri": "https://localhost:8080/",
          "height": 206
        },
        "id": "o1CCT8Q7mMMc",
        "outputId": "ae97784b-ba16-4f6b-e8a0-5f73bc088f09"
      },
      "outputs": [
        {
          "output_type": "execute_result",
          "data": {
            "text/plain": [
              "   age         workclass  education-num         occupation  hours-per-week  \\\n",
              "0   39         State-gov             13       Adm-clerical              40   \n",
              "1   50  Self-emp-not-inc             13    Exec-managerial              13   \n",
              "2   38           Private              9  Handlers-cleaners              40   \n",
              "3   53           Private              7  Handlers-cleaners              40   \n",
              "4   28           Private             13     Prof-specialty              40   \n",
              "\n",
              "   income  sex_Male  \n",
              "0       0         1  \n",
              "1       0         1  \n",
              "2       0         1  \n",
              "3       0         1  \n",
              "4       0         0  "
            ],
            "text/html": [
              "\n",
              "  <div id=\"df-15d22836-7294-4a6d-aca4-8a593f20006c\">\n",
              "    <div class=\"colab-df-container\">\n",
              "      <div>\n",
              "<style scoped>\n",
              "    .dataframe tbody tr th:only-of-type {\n",
              "        vertical-align: middle;\n",
              "    }\n",
              "\n",
              "    .dataframe tbody tr th {\n",
              "        vertical-align: top;\n",
              "    }\n",
              "\n",
              "    .dataframe thead th {\n",
              "        text-align: right;\n",
              "    }\n",
              "</style>\n",
              "<table border=\"1\" class=\"dataframe\">\n",
              "  <thead>\n",
              "    <tr style=\"text-align: right;\">\n",
              "      <th></th>\n",
              "      <th>age</th>\n",
              "      <th>workclass</th>\n",
              "      <th>education-num</th>\n",
              "      <th>occupation</th>\n",
              "      <th>hours-per-week</th>\n",
              "      <th>income</th>\n",
              "      <th>sex_Male</th>\n",
              "    </tr>\n",
              "  </thead>\n",
              "  <tbody>\n",
              "    <tr>\n",
              "      <th>0</th>\n",
              "      <td>39</td>\n",
              "      <td>State-gov</td>\n",
              "      <td>13</td>\n",
              "      <td>Adm-clerical</td>\n",
              "      <td>40</td>\n",
              "      <td>0</td>\n",
              "      <td>1</td>\n",
              "    </tr>\n",
              "    <tr>\n",
              "      <th>1</th>\n",
              "      <td>50</td>\n",
              "      <td>Self-emp-not-inc</td>\n",
              "      <td>13</td>\n",
              "      <td>Exec-managerial</td>\n",
              "      <td>13</td>\n",
              "      <td>0</td>\n",
              "      <td>1</td>\n",
              "    </tr>\n",
              "    <tr>\n",
              "      <th>2</th>\n",
              "      <td>38</td>\n",
              "      <td>Private</td>\n",
              "      <td>9</td>\n",
              "      <td>Handlers-cleaners</td>\n",
              "      <td>40</td>\n",
              "      <td>0</td>\n",
              "      <td>1</td>\n",
              "    </tr>\n",
              "    <tr>\n",
              "      <th>3</th>\n",
              "      <td>53</td>\n",
              "      <td>Private</td>\n",
              "      <td>7</td>\n",
              "      <td>Handlers-cleaners</td>\n",
              "      <td>40</td>\n",
              "      <td>0</td>\n",
              "      <td>1</td>\n",
              "    </tr>\n",
              "    <tr>\n",
              "      <th>4</th>\n",
              "      <td>28</td>\n",
              "      <td>Private</td>\n",
              "      <td>13</td>\n",
              "      <td>Prof-specialty</td>\n",
              "      <td>40</td>\n",
              "      <td>0</td>\n",
              "      <td>0</td>\n",
              "    </tr>\n",
              "  </tbody>\n",
              "</table>\n",
              "</div>\n",
              "      <button class=\"colab-df-convert\" onclick=\"convertToInteractive('df-15d22836-7294-4a6d-aca4-8a593f20006c')\"\n",
              "              title=\"Convert this dataframe to an interactive table.\"\n",
              "              style=\"display:none;\">\n",
              "        \n",
              "  <svg xmlns=\"http://www.w3.org/2000/svg\" height=\"24px\"viewBox=\"0 0 24 24\"\n",
              "       width=\"24px\">\n",
              "    <path d=\"M0 0h24v24H0V0z\" fill=\"none\"/>\n",
              "    <path d=\"M18.56 5.44l.94 2.06.94-2.06 2.06-.94-2.06-.94-.94-2.06-.94 2.06-2.06.94zm-11 1L8.5 8.5l.94-2.06 2.06-.94-2.06-.94L8.5 2.5l-.94 2.06-2.06.94zm10 10l.94 2.06.94-2.06 2.06-.94-2.06-.94-.94-2.06-.94 2.06-2.06.94z\"/><path d=\"M17.41 7.96l-1.37-1.37c-.4-.4-.92-.59-1.43-.59-.52 0-1.04.2-1.43.59L10.3 9.45l-7.72 7.72c-.78.78-.78 2.05 0 2.83L4 21.41c.39.39.9.59 1.41.59.51 0 1.02-.2 1.41-.59l7.78-7.78 2.81-2.81c.8-.78.8-2.07 0-2.86zM5.41 20L4 18.59l7.72-7.72 1.47 1.35L5.41 20z\"/>\n",
              "  </svg>\n",
              "      </button>\n",
              "      \n",
              "  <style>\n",
              "    .colab-df-container {\n",
              "      display:flex;\n",
              "      flex-wrap:wrap;\n",
              "      gap: 12px;\n",
              "    }\n",
              "\n",
              "    .colab-df-convert {\n",
              "      background-color: #E8F0FE;\n",
              "      border: none;\n",
              "      border-radius: 50%;\n",
              "      cursor: pointer;\n",
              "      display: none;\n",
              "      fill: #1967D2;\n",
              "      height: 32px;\n",
              "      padding: 0 0 0 0;\n",
              "      width: 32px;\n",
              "    }\n",
              "\n",
              "    .colab-df-convert:hover {\n",
              "      background-color: #E2EBFA;\n",
              "      box-shadow: 0px 1px 2px rgba(60, 64, 67, 0.3), 0px 1px 3px 1px rgba(60, 64, 67, 0.15);\n",
              "      fill: #174EA6;\n",
              "    }\n",
              "\n",
              "    [theme=dark] .colab-df-convert {\n",
              "      background-color: #3B4455;\n",
              "      fill: #D2E3FC;\n",
              "    }\n",
              "\n",
              "    [theme=dark] .colab-df-convert:hover {\n",
              "      background-color: #434B5C;\n",
              "      box-shadow: 0px 1px 3px 1px rgba(0, 0, 0, 0.15);\n",
              "      filter: drop-shadow(0px 1px 2px rgba(0, 0, 0, 0.3));\n",
              "      fill: #FFFFFF;\n",
              "    }\n",
              "  </style>\n",
              "\n",
              "      <script>\n",
              "        const buttonEl =\n",
              "          document.querySelector('#df-15d22836-7294-4a6d-aca4-8a593f20006c button.colab-df-convert');\n",
              "        buttonEl.style.display =\n",
              "          google.colab.kernel.accessAllowed ? 'block' : 'none';\n",
              "\n",
              "        async function convertToInteractive(key) {\n",
              "          const element = document.querySelector('#df-15d22836-7294-4a6d-aca4-8a593f20006c');\n",
              "          const dataTable =\n",
              "            await google.colab.kernel.invokeFunction('convertToInteractive',\n",
              "                                                     [key], {});\n",
              "          if (!dataTable) return;\n",
              "\n",
              "          const docLinkHtml = 'Like what you see? Visit the ' +\n",
              "            '<a target=\"_blank\" href=https://colab.research.google.com/notebooks/data_table.ipynb>data table notebook</a>'\n",
              "            + ' to learn more about interactive tables.';\n",
              "          element.innerHTML = '';\n",
              "          dataTable['output_type'] = 'display_data';\n",
              "          await google.colab.output.renderOutput(dataTable, element);\n",
              "          const docLink = document.createElement('div');\n",
              "          docLink.innerHTML = docLinkHtml;\n",
              "          element.appendChild(docLink);\n",
              "        }\n",
              "      </script>\n",
              "    </div>\n",
              "  </div>\n",
              "  "
            ]
          },
          "metadata": {},
          "execution_count": 6
        }
      ],
      "source": [
        "df = pd.get_dummies(df, columns=['sex'], drop_first=True)\n",
        "df.head()"
      ]
    },
    {
      "cell_type": "markdown",
      "metadata": {
        "id": "O9JndA-hmMMc"
      },
      "source": [
        "#### Third step - replace rare classes"
      ]
    },
    {
      "cell_type": "markdown",
      "metadata": {
        "id": "ZFX_D64nmMMc"
      },
      "source": [
        "Let's check if we have any rare classes"
      ]
    },
    {
      "cell_type": "code",
      "execution_count": null,
      "metadata": {
        "colab": {
          "base_uri": "https://localhost:8080/"
        },
        "id": "PmPpr2NKmMMd",
        "outputId": "e9df2022-617e-46f2-d1bd-2ff2c66e6082"
      },
      "outputs": [
        {
          "output_type": "execute_result",
          "data": {
            "text/plain": [
              "Private             22696\n",
              "Self-emp-not-inc     2541\n",
              "Local-gov            2093\n",
              "?                    1836\n",
              "State-gov            1298\n",
              "Self-emp-inc         1116\n",
              "Federal-gov           960\n",
              "Without-pay            14\n",
              "Never-worked            7\n",
              "Name: workclass, dtype: int64"
            ]
          },
          "metadata": {},
          "execution_count": 7
        }
      ],
      "source": [
        "df.workclass.value_counts()"
      ]
    },
    {
      "cell_type": "code",
      "execution_count": null,
      "metadata": {
        "colab": {
          "base_uri": "https://localhost:8080/"
        },
        "id": "cH3kl_QnmMMd",
        "outputId": "01487b50-bac0-4196-bfbd-d2b215c7cf69"
      },
      "outputs": [
        {
          "output_type": "execute_result",
          "data": {
            "text/plain": [
              "Prof-specialty       4140\n",
              "Craft-repair         4099\n",
              "Exec-managerial      4066\n",
              "Adm-clerical         3770\n",
              "Sales                3650\n",
              "Other-service        3295\n",
              "Machine-op-inspct    2002\n",
              "?                    1843\n",
              "Transport-moving     1597\n",
              "Handlers-cleaners    1370\n",
              "Farming-fishing       994\n",
              "Tech-support          928\n",
              "Protective-serv       649\n",
              "Priv-house-serv       149\n",
              "Armed-Forces            9\n",
              "Name: occupation, dtype: int64"
            ]
          },
          "metadata": {},
          "execution_count": 8
        }
      ],
      "source": [
        "df.occupation.value_counts()"
      ]
    },
    {
      "cell_type": "markdown",
      "metadata": {
        "id": "UDaDb1QnmMMd"
      },
      "source": [
        "Then we should replace rare classes for one-hot encoded columns"
      ]
    },
    {
      "cell_type": "code",
      "execution_count": null,
      "metadata": {
        "colab": {
          "base_uri": "https://localhost:8080/"
        },
        "id": "3lyCABsfmMMd",
        "outputId": "ffcd4069-4c14-4bb6-9683-00ee8a238c86"
      },
      "outputs": [
        {
          "output_type": "execute_result",
          "data": {
            "text/plain": [
              "Private             22696\n",
              "Self-emp-not-inc     2541\n",
              "Local-gov            2093\n",
              "?                    1857\n",
              "State-gov            1298\n",
              "Self-emp-inc         1116\n",
              "Federal-gov           960\n",
              "Name: workclass, dtype: int64"
            ]
          },
          "metadata": {},
          "execution_count": 9
        }
      ],
      "source": [
        "df.loc[df.workclass.isin(['Without-pay', 'Never-worked']), 'workclass'] = '?'\n",
        "df.workclass.value_counts()"
      ]
    },
    {
      "cell_type": "code",
      "execution_count": null,
      "metadata": {
        "colab": {
          "base_uri": "https://localhost:8080/"
        },
        "id": "XgxGG9K0mMMe",
        "outputId": "d702dfd6-35e6-46d6-d39d-ae3b3799fce7"
      },
      "outputs": [
        {
          "output_type": "execute_result",
          "data": {
            "text/plain": [
              "Prof-specialty       4140\n",
              "Craft-repair         4099\n",
              "Exec-managerial      4066\n",
              "Adm-clerical         3770\n",
              "Sales                3650\n",
              "Other-service        3295\n",
              "?                    2650\n",
              "Machine-op-inspct    2002\n",
              "Transport-moving     1597\n",
              "Handlers-cleaners    1370\n",
              "Farming-fishing       994\n",
              "Tech-support          928\n",
              "Name: occupation, dtype: int64"
            ]
          },
          "metadata": {},
          "execution_count": 10
        }
      ],
      "source": [
        "df.loc[df.occupation.isin(['Protective-serv', 'Priv-house-serv', 'Armed-Forces']), 'occupation'] = '?'\n",
        "df.occupation.value_counts()"
      ]
    },
    {
      "cell_type": "markdown",
      "metadata": {
        "id": "WcpWwUdNmMMe"
      },
      "source": [
        "#### Final step - one hot encoding"
      ]
    },
    {
      "cell_type": "code",
      "execution_count": null,
      "metadata": {
        "colab": {
          "base_uri": "https://localhost:8080/",
          "height": 553
        },
        "id": "qVONfIQImMMe",
        "outputId": "28294d61-046a-4bc3-d314-26742027e994"
      },
      "outputs": [
        {
          "output_type": "stream",
          "name": "stdout",
          "text": [
            "(32561, 24)\n",
            "Index(['age', 'education-num', 'hours-per-week', 'income', 'sex_Male',\n",
            "       'workclass_?', 'workclass_Federal-gov', 'workclass_Local-gov',\n",
            "       'workclass_Private', 'workclass_Self-emp-inc',\n",
            "       'workclass_Self-emp-not-inc', 'workclass_State-gov', 'occupation_?',\n",
            "       'occupation_Adm-clerical', 'occupation_Craft-repair',\n",
            "       'occupation_Exec-managerial', 'occupation_Farming-fishing',\n",
            "       'occupation_Handlers-cleaners', 'occupation_Machine-op-inspct',\n",
            "       'occupation_Other-service', 'occupation_Prof-specialty',\n",
            "       'occupation_Sales', 'occupation_Tech-support',\n",
            "       'occupation_Transport-moving'],\n",
            "      dtype='object')\n"
          ]
        },
        {
          "output_type": "execute_result",
          "data": {
            "text/plain": [
              "   age  education-num  hours-per-week  income  sex_Male  workclass_?  \\\n",
              "0   39             13              40       0         1            0   \n",
              "1   50             13              13       0         1            0   \n",
              "2   38              9              40       0         1            0   \n",
              "3   53              7              40       0         1            0   \n",
              "4   28             13              40       0         0            0   \n",
              "\n",
              "   workclass_Federal-gov  workclass_Local-gov  workclass_Private  \\\n",
              "0                      0                    0                  0   \n",
              "1                      0                    0                  0   \n",
              "2                      0                    0                  1   \n",
              "3                      0                    0                  1   \n",
              "4                      0                    0                  1   \n",
              "\n",
              "   workclass_Self-emp-inc  ...  occupation_Craft-repair  \\\n",
              "0                       0  ...                        0   \n",
              "1                       0  ...                        0   \n",
              "2                       0  ...                        0   \n",
              "3                       0  ...                        0   \n",
              "4                       0  ...                        0   \n",
              "\n",
              "   occupation_Exec-managerial  occupation_Farming-fishing  \\\n",
              "0                           0                           0   \n",
              "1                           1                           0   \n",
              "2                           0                           0   \n",
              "3                           0                           0   \n",
              "4                           0                           0   \n",
              "\n",
              "   occupation_Handlers-cleaners  occupation_Machine-op-inspct  \\\n",
              "0                             0                             0   \n",
              "1                             0                             0   \n",
              "2                             1                             0   \n",
              "3                             1                             0   \n",
              "4                             0                             0   \n",
              "\n",
              "   occupation_Other-service  occupation_Prof-specialty  occupation_Sales  \\\n",
              "0                         0                          0                 0   \n",
              "1                         0                          0                 0   \n",
              "2                         0                          0                 0   \n",
              "3                         0                          0                 0   \n",
              "4                         0                          1                 0   \n",
              "\n",
              "   occupation_Tech-support  occupation_Transport-moving  \n",
              "0                        0                            0  \n",
              "1                        0                            0  \n",
              "2                        0                            0  \n",
              "3                        0                            0  \n",
              "4                        0                            0  \n",
              "\n",
              "[5 rows x 24 columns]"
            ],
            "text/html": [
              "\n",
              "  <div id=\"df-6fea5b85-f3c6-4969-976a-d0df4d4a2905\">\n",
              "    <div class=\"colab-df-container\">\n",
              "      <div>\n",
              "<style scoped>\n",
              "    .dataframe tbody tr th:only-of-type {\n",
              "        vertical-align: middle;\n",
              "    }\n",
              "\n",
              "    .dataframe tbody tr th {\n",
              "        vertical-align: top;\n",
              "    }\n",
              "\n",
              "    .dataframe thead th {\n",
              "        text-align: right;\n",
              "    }\n",
              "</style>\n",
              "<table border=\"1\" class=\"dataframe\">\n",
              "  <thead>\n",
              "    <tr style=\"text-align: right;\">\n",
              "      <th></th>\n",
              "      <th>age</th>\n",
              "      <th>education-num</th>\n",
              "      <th>hours-per-week</th>\n",
              "      <th>income</th>\n",
              "      <th>sex_Male</th>\n",
              "      <th>workclass_?</th>\n",
              "      <th>workclass_Federal-gov</th>\n",
              "      <th>workclass_Local-gov</th>\n",
              "      <th>workclass_Private</th>\n",
              "      <th>workclass_Self-emp-inc</th>\n",
              "      <th>...</th>\n",
              "      <th>occupation_Craft-repair</th>\n",
              "      <th>occupation_Exec-managerial</th>\n",
              "      <th>occupation_Farming-fishing</th>\n",
              "      <th>occupation_Handlers-cleaners</th>\n",
              "      <th>occupation_Machine-op-inspct</th>\n",
              "      <th>occupation_Other-service</th>\n",
              "      <th>occupation_Prof-specialty</th>\n",
              "      <th>occupation_Sales</th>\n",
              "      <th>occupation_Tech-support</th>\n",
              "      <th>occupation_Transport-moving</th>\n",
              "    </tr>\n",
              "  </thead>\n",
              "  <tbody>\n",
              "    <tr>\n",
              "      <th>0</th>\n",
              "      <td>39</td>\n",
              "      <td>13</td>\n",
              "      <td>40</td>\n",
              "      <td>0</td>\n",
              "      <td>1</td>\n",
              "      <td>0</td>\n",
              "      <td>0</td>\n",
              "      <td>0</td>\n",
              "      <td>0</td>\n",
              "      <td>0</td>\n",
              "      <td>...</td>\n",
              "      <td>0</td>\n",
              "      <td>0</td>\n",
              "      <td>0</td>\n",
              "      <td>0</td>\n",
              "      <td>0</td>\n",
              "      <td>0</td>\n",
              "      <td>0</td>\n",
              "      <td>0</td>\n",
              "      <td>0</td>\n",
              "      <td>0</td>\n",
              "    </tr>\n",
              "    <tr>\n",
              "      <th>1</th>\n",
              "      <td>50</td>\n",
              "      <td>13</td>\n",
              "      <td>13</td>\n",
              "      <td>0</td>\n",
              "      <td>1</td>\n",
              "      <td>0</td>\n",
              "      <td>0</td>\n",
              "      <td>0</td>\n",
              "      <td>0</td>\n",
              "      <td>0</td>\n",
              "      <td>...</td>\n",
              "      <td>0</td>\n",
              "      <td>1</td>\n",
              "      <td>0</td>\n",
              "      <td>0</td>\n",
              "      <td>0</td>\n",
              "      <td>0</td>\n",
              "      <td>0</td>\n",
              "      <td>0</td>\n",
              "      <td>0</td>\n",
              "      <td>0</td>\n",
              "    </tr>\n",
              "    <tr>\n",
              "      <th>2</th>\n",
              "      <td>38</td>\n",
              "      <td>9</td>\n",
              "      <td>40</td>\n",
              "      <td>0</td>\n",
              "      <td>1</td>\n",
              "      <td>0</td>\n",
              "      <td>0</td>\n",
              "      <td>0</td>\n",
              "      <td>1</td>\n",
              "      <td>0</td>\n",
              "      <td>...</td>\n",
              "      <td>0</td>\n",
              "      <td>0</td>\n",
              "      <td>0</td>\n",
              "      <td>1</td>\n",
              "      <td>0</td>\n",
              "      <td>0</td>\n",
              "      <td>0</td>\n",
              "      <td>0</td>\n",
              "      <td>0</td>\n",
              "      <td>0</td>\n",
              "    </tr>\n",
              "    <tr>\n",
              "      <th>3</th>\n",
              "      <td>53</td>\n",
              "      <td>7</td>\n",
              "      <td>40</td>\n",
              "      <td>0</td>\n",
              "      <td>1</td>\n",
              "      <td>0</td>\n",
              "      <td>0</td>\n",
              "      <td>0</td>\n",
              "      <td>1</td>\n",
              "      <td>0</td>\n",
              "      <td>...</td>\n",
              "      <td>0</td>\n",
              "      <td>0</td>\n",
              "      <td>0</td>\n",
              "      <td>1</td>\n",
              "      <td>0</td>\n",
              "      <td>0</td>\n",
              "      <td>0</td>\n",
              "      <td>0</td>\n",
              "      <td>0</td>\n",
              "      <td>0</td>\n",
              "    </tr>\n",
              "    <tr>\n",
              "      <th>4</th>\n",
              "      <td>28</td>\n",
              "      <td>13</td>\n",
              "      <td>40</td>\n",
              "      <td>0</td>\n",
              "      <td>0</td>\n",
              "      <td>0</td>\n",
              "      <td>0</td>\n",
              "      <td>0</td>\n",
              "      <td>1</td>\n",
              "      <td>0</td>\n",
              "      <td>...</td>\n",
              "      <td>0</td>\n",
              "      <td>0</td>\n",
              "      <td>0</td>\n",
              "      <td>0</td>\n",
              "      <td>0</td>\n",
              "      <td>0</td>\n",
              "      <td>1</td>\n",
              "      <td>0</td>\n",
              "      <td>0</td>\n",
              "      <td>0</td>\n",
              "    </tr>\n",
              "  </tbody>\n",
              "</table>\n",
              "<p>5 rows × 24 columns</p>\n",
              "</div>\n",
              "      <button class=\"colab-df-convert\" onclick=\"convertToInteractive('df-6fea5b85-f3c6-4969-976a-d0df4d4a2905')\"\n",
              "              title=\"Convert this dataframe to an interactive table.\"\n",
              "              style=\"display:none;\">\n",
              "        \n",
              "  <svg xmlns=\"http://www.w3.org/2000/svg\" height=\"24px\"viewBox=\"0 0 24 24\"\n",
              "       width=\"24px\">\n",
              "    <path d=\"M0 0h24v24H0V0z\" fill=\"none\"/>\n",
              "    <path d=\"M18.56 5.44l.94 2.06.94-2.06 2.06-.94-2.06-.94-.94-2.06-.94 2.06-2.06.94zm-11 1L8.5 8.5l.94-2.06 2.06-.94-2.06-.94L8.5 2.5l-.94 2.06-2.06.94zm10 10l.94 2.06.94-2.06 2.06-.94-2.06-.94-.94-2.06-.94 2.06-2.06.94z\"/><path d=\"M17.41 7.96l-1.37-1.37c-.4-.4-.92-.59-1.43-.59-.52 0-1.04.2-1.43.59L10.3 9.45l-7.72 7.72c-.78.78-.78 2.05 0 2.83L4 21.41c.39.39.9.59 1.41.59.51 0 1.02-.2 1.41-.59l7.78-7.78 2.81-2.81c.8-.78.8-2.07 0-2.86zM5.41 20L4 18.59l7.72-7.72 1.47 1.35L5.41 20z\"/>\n",
              "  </svg>\n",
              "      </button>\n",
              "      \n",
              "  <style>\n",
              "    .colab-df-container {\n",
              "      display:flex;\n",
              "      flex-wrap:wrap;\n",
              "      gap: 12px;\n",
              "    }\n",
              "\n",
              "    .colab-df-convert {\n",
              "      background-color: #E8F0FE;\n",
              "      border: none;\n",
              "      border-radius: 50%;\n",
              "      cursor: pointer;\n",
              "      display: none;\n",
              "      fill: #1967D2;\n",
              "      height: 32px;\n",
              "      padding: 0 0 0 0;\n",
              "      width: 32px;\n",
              "    }\n",
              "\n",
              "    .colab-df-convert:hover {\n",
              "      background-color: #E2EBFA;\n",
              "      box-shadow: 0px 1px 2px rgba(60, 64, 67, 0.3), 0px 1px 3px 1px rgba(60, 64, 67, 0.15);\n",
              "      fill: #174EA6;\n",
              "    }\n",
              "\n",
              "    [theme=dark] .colab-df-convert {\n",
              "      background-color: #3B4455;\n",
              "      fill: #D2E3FC;\n",
              "    }\n",
              "\n",
              "    [theme=dark] .colab-df-convert:hover {\n",
              "      background-color: #434B5C;\n",
              "      box-shadow: 0px 1px 3px 1px rgba(0, 0, 0, 0.15);\n",
              "      filter: drop-shadow(0px 1px 2px rgba(0, 0, 0, 0.3));\n",
              "      fill: #FFFFFF;\n",
              "    }\n",
              "  </style>\n",
              "\n",
              "      <script>\n",
              "        const buttonEl =\n",
              "          document.querySelector('#df-6fea5b85-f3c6-4969-976a-d0df4d4a2905 button.colab-df-convert');\n",
              "        buttonEl.style.display =\n",
              "          google.colab.kernel.accessAllowed ? 'block' : 'none';\n",
              "\n",
              "        async function convertToInteractive(key) {\n",
              "          const element = document.querySelector('#df-6fea5b85-f3c6-4969-976a-d0df4d4a2905');\n",
              "          const dataTable =\n",
              "            await google.colab.kernel.invokeFunction('convertToInteractive',\n",
              "                                                     [key], {});\n",
              "          if (!dataTable) return;\n",
              "\n",
              "          const docLinkHtml = 'Like what you see? Visit the ' +\n",
              "            '<a target=\"_blank\" href=https://colab.research.google.com/notebooks/data_table.ipynb>data table notebook</a>'\n",
              "            + ' to learn more about interactive tables.';\n",
              "          element.innerHTML = '';\n",
              "          dataTable['output_type'] = 'display_data';\n",
              "          await google.colab.output.renderOutput(dataTable, element);\n",
              "          const docLink = document.createElement('div');\n",
              "          docLink.innerHTML = docLinkHtml;\n",
              "          element.appendChild(docLink);\n",
              "        }\n",
              "      </script>\n",
              "    </div>\n",
              "  </div>\n",
              "  "
            ]
          },
          "metadata": {},
          "execution_count": 11
        }
      ],
      "source": [
        "df = pd.get_dummies(df, columns=['workclass', 'occupation'])\n",
        "print (df.shape)\n",
        "print (df.columns)\n",
        "df.head()"
      ]
    },
    {
      "cell_type": "markdown",
      "metadata": {
        "id": "Yi-AM_MrmMMe"
      },
      "source": [
        "## Splitting dataset"
      ]
    },
    {
      "cell_type": "markdown",
      "metadata": {
        "id": "Pq_R0k2nmMMf"
      },
      "source": [
        "Let's split the dataset into features and labels first.\n",
        "- `income` is the label (`y`)\n",
        "- all other columns are features (`X`)"
      ]
    },
    {
      "cell_type": "code",
      "execution_count": null,
      "metadata": {
        "id": "AYQo0MT8mMMf"
      },
      "outputs": [],
      "source": [
        "y = df.income\n",
        "X = df.drop(['income'], axis=1)"
      ]
    },
    {
      "cell_type": "markdown",
      "metadata": {
        "id": "xEK-SRwKmMMf"
      },
      "source": [
        "### Train test split\n",
        "#### NOTE: This time we want to split the data into 3 datasets\n",
        "Split ratio: 60, 20, 20"
      ]
    },
    {
      "cell_type": "code",
      "execution_count": null,
      "metadata": {
        "colab": {
          "base_uri": "https://localhost:8080/"
        },
        "id": "oSEfSVaxmMMf",
        "outputId": "dd8a4223-2009-4f8b-d360-79e7a6f2f848"
      },
      "outputs": [
        {
          "output_type": "stream",
          "name": "stdout",
          "text": [
            "X train shape: (19536, 23)\n",
            "y train shape: (19536,)\n",
            "X valid shape: (6512, 23)\n",
            "y valid shape: (6512,)\n",
            "X test shape: (6513, 23)\n",
            "y test shape: (6513,)\n"
          ]
        }
      ],
      "source": [
        "from sklearn.model_selection import train_test_split\n",
        "X_train, X_test, y_train, y_test = train_test_split(X, y, test_size=0.4,\n",
        "                                                    stratify = y, random_state=1)\n",
        "\n",
        "X_valid, X_test, y_valid, y_test = train_test_split(X_test, y_test, test_size=0.5,\n",
        "                                                    stratify = y_test, random_state=1)\n",
        "\n",
        "\n",
        "\n",
        "print ('X train shape:', X_train.shape)\n",
        "print ('y train shape:', y_train.shape)\n",
        "\n",
        "print ('X valid shape:', X_valid.shape)\n",
        "print ('y valid shape:', y_valid.shape)\n",
        "\n",
        "print ('X test shape:', X_test.shape)\n",
        "print ('y test shape:', y_test.shape)"
      ]
    },
    {
      "cell_type": "markdown",
      "metadata": {
        "id": "r4GFVrEKmMMf"
      },
      "source": [
        "# Keras"
      ]
    },
    {
      "cell_type": "markdown",
      "metadata": {
        "id": "apWU1gYumMMg"
      },
      "source": [
        "Import modules"
      ]
    },
    {
      "cell_type": "code",
      "execution_count": null,
      "metadata": {
        "id": "2cu1JrP0mMMg"
      },
      "outputs": [],
      "source": [
        "from tensorflow.keras.models import Sequential\n",
        "from tensorflow.keras.layers import Dense\n",
        "from tensorflow.keras.layers import Dropout\n",
        "from tensorflow.keras import optimizers"
      ]
    },
    {
      "cell_type": "markdown",
      "metadata": {
        "id": "bi0rOdqMmMMg"
      },
      "source": [
        "## Building model"
      ]
    },
    {
      "cell_type": "markdown",
      "metadata": {
        "id": "KW2b8VN9mMMg"
      },
      "source": [
        "Let's define the hyperparameters first"
      ]
    },
    {
      "cell_type": "code",
      "execution_count": null,
      "metadata": {
        "colab": {
          "base_uri": "https://localhost:8080/"
        },
        "id": "NK5XHtYZmMMh",
        "outputId": "abb8df91-1cfc-4a8a-9b59-8de301063d4c"
      },
      "outputs": [
        {
          "output_type": "stream",
          "name": "stdout",
          "text": [
            "X_train dataset cointains 23 features (columns).\n"
          ]
        }
      ],
      "source": [
        "CELLS_1 = 32\n",
        "CELLS_2 = 8\n",
        "LEARNING_RATE = 0.001\n",
        "EPOCHS = 10\n",
        "BATCH_SIZE = 128\n",
        "\n",
        "\n",
        "NR_INPUTS = X_train.shape[1]\n",
        "\n",
        "print ('X_train dataset cointains {} features (columns).'.format(NR_INPUTS))"
      ]
    },
    {
      "cell_type": "markdown",
      "metadata": {
        "id": "O7r9s0rpmMMh"
      },
      "source": [
        "Now we may build the model"
      ]
    },
    {
      "cell_type": "code",
      "execution_count": null,
      "metadata": {
        "colab": {
          "base_uri": "https://localhost:8080/"
        },
        "id": "dfuVEA5PmMMh",
        "outputId": "b9ea0467-4837-46b0-ce3e-5df474c5826e"
      },
      "outputs": [
        {
          "output_type": "stream",
          "name": "stderr",
          "text": [
            "WARNING:absl:`lr` is deprecated in Keras optimizer, please use `learning_rate` or use the legacy optimizer, e.g.,tf.keras.optimizers.legacy.Adam.\n"
          ]
        },
        {
          "output_type": "stream",
          "name": "stdout",
          "text": [
            "Model: \"sequential\"\n",
            "_________________________________________________________________\n",
            " Layer (type)                Output Shape              Param #   \n",
            "=================================================================\n",
            " dense (Dense)               (None, 32)                768       \n",
            "                                                                 \n",
            " dense_1 (Dense)             (None, 8)                 264       \n",
            "                                                                 \n",
            " dense_2 (Dense)             (None, 1)                 9         \n",
            "                                                                 \n",
            "=================================================================\n",
            "Total params: 1,041\n",
            "Trainable params: 1,041\n",
            "Non-trainable params: 0\n",
            "_________________________________________________________________\n"
          ]
        }
      ],
      "source": [
        "model = Sequential()\n",
        "\n",
        "model.add(Dense(CELLS_1, input_shape=[NR_INPUTS, ], activation='relu'))\n",
        "model.add(Dense(CELLS_2, activation='relu'))\n",
        "model.add(Dense(1, activation='sigmoid'))\n",
        "\n",
        "optimizer = optimizers.Adam(lr=LEARNING_RATE)\n",
        "\n",
        "model.compile(loss = 'binary_crossentropy', optimizer=optimizer, metrics=['accuracy'])\n",
        "\n",
        "model.summary()\n"
      ]
    },
    {
      "cell_type": "code",
      "execution_count": null,
      "metadata": {
        "colab": {
          "base_uri": "https://localhost:8080/"
        },
        "id": "lvOn2gY4mMMh",
        "outputId": "9f486ce6-d77a-4786-c7e2-fb1c497043dd"
      },
      "outputs": [
        {
          "output_type": "stream",
          "name": "stdout",
          "text": [
            "Epoch 1/10\n",
            "153/153 [==============================] - 3s 9ms/step - loss: 0.5827 - accuracy: 0.7418 - val_loss: 0.5635 - val_accuracy: 0.7591\n",
            "Epoch 2/10\n",
            "153/153 [==============================] - 1s 7ms/step - loss: 0.5332 - accuracy: 0.7589 - val_loss: 0.5080 - val_accuracy: 0.7634\n",
            "Epoch 3/10\n",
            "153/153 [==============================] - 1s 6ms/step - loss: 0.4894 - accuracy: 0.7682 - val_loss: 0.4748 - val_accuracy: 0.7693\n",
            "Epoch 4/10\n",
            "153/153 [==============================] - 1s 4ms/step - loss: 0.4611 - accuracy: 0.7807 - val_loss: 0.4507 - val_accuracy: 0.7889\n",
            "Epoch 5/10\n",
            "153/153 [==============================] - 1s 4ms/step - loss: 0.4438 - accuracy: 0.7901 - val_loss: 0.4355 - val_accuracy: 0.7958\n",
            "Epoch 6/10\n",
            "153/153 [==============================] - 1s 4ms/step - loss: 0.4348 - accuracy: 0.7968 - val_loss: 0.4315 - val_accuracy: 0.8002\n",
            "Epoch 7/10\n",
            "153/153 [==============================] - 1s 4ms/step - loss: 0.4277 - accuracy: 0.7965 - val_loss: 0.4367 - val_accuracy: 0.7913\n",
            "Epoch 8/10\n",
            "153/153 [==============================] - 1s 4ms/step - loss: 0.4264 - accuracy: 0.8001 - val_loss: 0.4217 - val_accuracy: 0.8022\n",
            "Epoch 9/10\n",
            "153/153 [==============================] - 1s 4ms/step - loss: 0.4213 - accuracy: 0.8015 - val_loss: 0.4148 - val_accuracy: 0.8076\n",
            "Epoch 10/10\n",
            "153/153 [==============================] - 1s 5ms/step - loss: 0.4201 - accuracy: 0.8036 - val_loss: 0.4169 - val_accuracy: 0.8073\n"
          ]
        }
      ],
      "source": [
        "history = model.fit(X_train, y_train,\n",
        "                    validation_data = (X_valid, y_valid),\n",
        "                    batch_size = BATCH_SIZE,\n",
        "                    epochs=EPOCHS)"
      ]
    },
    {
      "cell_type": "markdown",
      "metadata": {
        "id": "4tqfS9IOmMMi"
      },
      "source": [
        "Let's display the training history"
      ]
    },
    {
      "cell_type": "code",
      "execution_count": null,
      "metadata": {
        "colab": {
          "base_uri": "https://localhost:8080/",
          "height": 370
        },
        "id": "1Pd0ekummMMi",
        "outputId": "91d0d2ec-14e6-4132-b693-3a725fe81103"
      },
      "outputs": [
        {
          "output_type": "display_data",
          "data": {
            "text/plain": [
              "<Figure size 800x400 with 2 Axes>"
            ],
            "image/png": "[encoded data removed]"
          },
          "metadata": {}
        }
      ],
      "source": [
        "def plot_train_valid_history(history):\n",
        "    \"\"\"\n",
        "    Plots train and validation losses.\n",
        "    Arguments: history - history of training (result of keras model.fit).\n",
        "        history.history must be a dictionary that looks as follow:\n",
        "        {\n",
        "            'loss' : .....\n",
        "            'valid_loss' : .....\n",
        "            'accuracy' : .... # Optional\n",
        "            'val_accuracy' : ..... # Optional\n",
        "        }\n",
        "    \"\"\"\n",
        "    epochs = np.arange(len(history.history['val_loss'])) + 1\n",
        "    fig = plt.figure(figsize=(8, 4))\n",
        "    if 'accuracy' in history.history:\n",
        "        ax1 = fig.add_subplot(121)\n",
        "        ax1.plot(epochs, history.history['loss'], c='b', label='Train loss')\n",
        "        ax1.plot(epochs, history.history['val_loss'], c='g', label='Valid loss')\n",
        "        plt.legend(loc='lower left');\n",
        "        plt.grid(True)\n",
        "\n",
        "        ax1 = fig.add_subplot(122)\n",
        "        ax1.plot(epochs, history.history['accuracy'], c='b', label='Train acc')\n",
        "        ax1.plot(epochs, history.history['val_accuracy'], c='g', label='Valid acc')\n",
        "        plt.legend(loc='lower right');\n",
        "        plt.grid(True)\n",
        "\n",
        "\n",
        "    else:\n",
        "        ax1 = fig.add_subplot(111)\n",
        "        ax1.plot(epochs, history.history['loss'], c='b', label='Train loss')\n",
        "        ax1.plot(epochs, history.history['val_loss'], c='g', label='Valid loss')\n",
        "        plt.legend(loc='lower left');\n",
        "        plt.grid(True)\n",
        "    plt.show()\n",
        "\n",
        "\n",
        "plot_train_valid_history(history)"
      ]
    },
    {
      "cell_type": "code",
      "execution_count": null,
      "metadata": {
        "colab": {
          "base_uri": "https://localhost:8080/"
        },
        "id": "VFVkKY93mMMi",
        "outputId": "71dbd104-4a32-4132-9407-1f4cad4b3abe"
      },
      "outputs": [
        {
          "output_type": "stream",
          "name": "stdout",
          "text": [
            "204/204 [==============================] - 0s 2ms/step - loss: 0.4180 - accuracy: 0.8108\n",
            "Test score: 0.4179919958114624\n",
            "Test accuracy: 0.810839831829071\n"
          ]
        }
      ],
      "source": [
        "score, acc = model.evaluate(X_test, y_test)\n",
        "print('Test score:', score)\n",
        "print('Test accuracy:', acc)"
      ]
    },
    {
      "cell_type": "markdown",
      "metadata": {
        "id": "8NabQZ_0mMMj"
      },
      "source": [
        "## Task 1\n",
        "Create, train and test a model with following parameters:\n",
        "- First hidden layer: 32 neurons, relu activation\n",
        "- Dropout after first hidden layer keep_probability = 0.5\n",
        "- Second hidden layer: 32 neurons, relu activation\n",
        "- Output layer: 1 neuron, sigmoid activation\n",
        "\n",
        "Training parameters:\n",
        "- Learning Rate: 0.0003\n",
        "- Number of Epochs: 50\n",
        "- Batch size: 128\n",
        "\n",
        "*Note: You will need your model in task 2, so it is a good idea to write a function, which creates the model.*\n",
        "\n",
        "![alt text](./img/model_keras_task1.png \"Task 1 model\")"
      ]
    },
    {
      "cell_type": "code",
      "execution_count": null,
      "metadata": {
        "colab": {
          "base_uri": "https://localhost:8080/"
        },
        "id": "8p2FWeYDmMMj",
        "outputId": "86f98b4a-9ac5-48d3-94d6-70a6ac464085"
      },
      "outputs": [
        {
          "output_type": "stream",
          "name": "stdout",
          "text": [
            "X_train dataset cointains 23 features (columns).\n"
          ]
        }
      ],
      "source": [
        "# HYPERPARAMETERS\n",
        "CELLS_1 = 32\n",
        "CELLS_2 = 32\n",
        "LEARNING_RATE = 0.0003\n",
        "EPOCHS = 50\n",
        "BATCH_SIZE = 128\n",
        "\n",
        "NR_INPUTS = X_train.shape[1]\n",
        "print ('X_train dataset cointains {} features (columns).'.format(NR_INPUTS))\n",
        "\n"
      ]
    },
    {
      "cell_type": "code",
      "execution_count": null,
      "metadata": {
        "id": "1sk2WDixmMMj"
      },
      "outputs": [],
      "source": [
        "def create_model():\n",
        "    model = Sequential()\n",
        "\n",
        "    #pierwsza warstwa 32 neurony\n",
        "    model.add(Dense(CELLS_1, input_shape = [NR_INPUTS,], activation = 'relu'  ))\n",
        "    #warstwa dropout 0.5 probability\n",
        "    model.add(Dropout(0.5))\n",
        "    #druga warstwa 32 neurony\n",
        "    model.add(Dense(CELLS_2, activation = 'relu'))\n",
        "    #warstwa wyjsciowa 1 neuron\n",
        "    model.add(Dense(1, activation = 'sigmoid'))\n",
        "\n",
        "    optimizer = optimizers.Adam(lr = LEARNING_RATE)\n",
        "    model.compile(loss = 'binary_crossentropy', optimizer = optimizer, metrics = ['accuracy'])\n",
        "    model.summary()\n",
        "    return model\n"
      ]
    },
    {
      "cell_type": "code",
      "execution_count": null,
      "metadata": {
        "colab": {
          "base_uri": "https://localhost:8080/"
        },
        "id": "ZOwSf19AmMMj",
        "outputId": "bbea0916-8083-44f0-b557-e2f8d43bce32"
      },
      "outputs": [
        {
          "output_type": "stream",
          "name": "stderr",
          "text": [
            "WARNING:absl:`lr` is deprecated in Keras optimizer, please use `learning_rate` or use the legacy optimizer, e.g.,tf.keras.optimizers.legacy.Adam.\n"
          ]
        },
        {
          "output_type": "stream",
          "name": "stdout",
          "text": [
            "Model: \"sequential_1\"\n",
            "_________________________________________________________________\n",
            " Layer (type)                Output Shape              Param #   \n",
            "=================================================================\n",
            " dense_3 (Dense)             (None, 32)                768       \n",
            "                                                                 \n",
            " dropout (Dropout)           (None, 32)                0         \n",
            "                                                                 \n",
            " dense_4 (Dense)             (None, 32)                1056      \n",
            "                                                                 \n",
            " dense_5 (Dense)             (None, 1)                 33        \n",
            "                                                                 \n",
            "=================================================================\n",
            "Total params: 1,857\n",
            "Trainable params: 1,857\n",
            "Non-trainable params: 0\n",
            "_________________________________________________________________\n"
          ]
        }
      ],
      "source": [
        "model = create_model()"
      ]
    },
    {
      "cell_type": "code",
      "execution_count": null,
      "metadata": {
        "colab": {
          "base_uri": "https://localhost:8080/"
        },
        "id": "tVsjLU2SmMMj",
        "outputId": "3498792f-969d-4649-ef8a-da64142e7187"
      },
      "outputs": [
        {
          "output_type": "stream",
          "name": "stdout",
          "text": [
            "Epoch 1/50\n",
            "153/153 [==============================] - 3s 8ms/step - loss: 0.8987 - accuracy: 0.6788 - val_loss: 0.5698 - val_accuracy: 0.7592\n",
            "Epoch 2/50\n",
            "153/153 [==============================] - 1s 8ms/step - loss: 0.6060 - accuracy: 0.7320 - val_loss: 0.5468 - val_accuracy: 0.7592\n",
            "Epoch 3/50\n",
            "153/153 [==============================] - 1s 8ms/step - loss: 0.5683 - accuracy: 0.7489 - val_loss: 0.5248 - val_accuracy: 0.7592\n",
            "Epoch 4/50\n",
            "153/153 [==============================] - 1s 4ms/step - loss: 0.5369 - accuracy: 0.7559 - val_loss: 0.5068 - val_accuracy: 0.7592\n",
            "Epoch 5/50\n",
            "153/153 [==============================] - 1s 5ms/step - loss: 0.5161 - accuracy: 0.7575 - val_loss: 0.5068 - val_accuracy: 0.7592\n",
            "Epoch 6/50\n",
            "153/153 [==============================] - 1s 4ms/step - loss: 0.5015 - accuracy: 0.7601 - val_loss: 0.4779 - val_accuracy: 0.7592\n",
            "Epoch 7/50\n",
            "153/153 [==============================] - 1s 5ms/step - loss: 0.4976 - accuracy: 0.7588 - val_loss: 0.4762 - val_accuracy: 0.7592\n",
            "Epoch 8/50\n",
            "153/153 [==============================] - 1s 5ms/step - loss: 0.4866 - accuracy: 0.7629 - val_loss: 0.4825 - val_accuracy: 0.7592\n",
            "Epoch 9/50\n",
            "153/153 [==============================] - 1s 5ms/step - loss: 0.4828 - accuracy: 0.7635 - val_loss: 0.4908 - val_accuracy: 0.7592\n",
            "Epoch 10/50\n",
            "153/153 [==============================] - 1s 5ms/step - loss: 0.4761 - accuracy: 0.7682 - val_loss: 0.4835 - val_accuracy: 0.7592\n",
            "Epoch 11/50\n",
            "153/153 [==============================] - 1s 5ms/step - loss: 0.4733 - accuracy: 0.7689 - val_loss: 0.4808 - val_accuracy: 0.7592\n",
            "Epoch 12/50\n",
            "153/153 [==============================] - 1s 6ms/step - loss: 0.4656 - accuracy: 0.7704 - val_loss: 0.5090 - val_accuracy: 0.7592\n",
            "Epoch 13/50\n",
            "153/153 [==============================] - 1s 5ms/step - loss: 0.4584 - accuracy: 0.7780 - val_loss: 0.5104 - val_accuracy: 0.7592\n",
            "Epoch 14/50\n",
            "153/153 [==============================] - 0s 2ms/step - loss: 0.4581 - accuracy: 0.7808 - val_loss: 0.4919 - val_accuracy: 0.7592\n",
            "Epoch 15/50\n",
            "153/153 [==============================] - 0s 2ms/step - loss: 0.4538 - accuracy: 0.7825 - val_loss: 0.4627 - val_accuracy: 0.7595\n",
            "Epoch 16/50\n",
            "153/153 [==============================] - 0s 2ms/step - loss: 0.4510 - accuracy: 0.7835 - val_loss: 0.5003 - val_accuracy: 0.7592\n",
            "Epoch 17/50\n",
            "153/153 [==============================] - 0s 2ms/step - loss: 0.4490 - accuracy: 0.7852 - val_loss: 0.5014 - val_accuracy: 0.7592\n",
            "Epoch 18/50\n",
            "153/153 [==============================] - 0s 2ms/step - loss: 0.4449 - accuracy: 0.7878 - val_loss: 0.4949 - val_accuracy: 0.7592\n",
            "Epoch 19/50\n",
            "153/153 [==============================] - 0s 2ms/step - loss: 0.4431 - accuracy: 0.7920 - val_loss: 0.5522 - val_accuracy: 0.7592\n",
            "Epoch 20/50\n",
            "153/153 [==============================] - 1s 3ms/step - loss: 0.4416 - accuracy: 0.7905 - val_loss: 0.5400 - val_accuracy: 0.7592\n",
            "Epoch 21/50\n",
            "153/153 [==============================] - 0s 3ms/step - loss: 0.4394 - accuracy: 0.7912 - val_loss: 0.5336 - val_accuracy: 0.7592\n",
            "Epoch 22/50\n",
            "153/153 [==============================] - 1s 4ms/step - loss: 0.4389 - accuracy: 0.7917 - val_loss: 0.5063 - val_accuracy: 0.7592\n",
            "Epoch 23/50\n",
            "153/153 [==============================] - 0s 3ms/step - loss: 0.4350 - accuracy: 0.7930 - val_loss: 0.5190 - val_accuracy: 0.7592\n",
            "Epoch 24/50\n",
            "153/153 [==============================] - 1s 4ms/step - loss: 0.4310 - accuracy: 0.7964 - val_loss: 0.5197 - val_accuracy: 0.7592\n",
            "Epoch 25/50\n",
            "153/153 [==============================] - 0s 2ms/step - loss: 0.4322 - accuracy: 0.7971 - val_loss: 0.5242 - val_accuracy: 0.7592\n",
            "Epoch 26/50\n",
            "153/153 [==============================] - 0s 2ms/step - loss: 0.4287 - accuracy: 0.7961 - val_loss: 0.5105 - val_accuracy: 0.7592\n",
            "Epoch 27/50\n",
            "153/153 [==============================] - 0s 3ms/step - loss: 0.4300 - accuracy: 0.7993 - val_loss: 0.5554 - val_accuracy: 0.7592\n",
            "Epoch 28/50\n",
            "153/153 [==============================] - 0s 2ms/step - loss: 0.4269 - accuracy: 0.7975 - val_loss: 0.5497 - val_accuracy: 0.7592\n",
            "Epoch 29/50\n",
            "153/153 [==============================] - 0s 2ms/step - loss: 0.4265 - accuracy: 0.8006 - val_loss: 0.5451 - val_accuracy: 0.7592\n",
            "Epoch 30/50\n",
            "153/153 [==============================] - 0s 2ms/step - loss: 0.4259 - accuracy: 0.7995 - val_loss: 0.5468 - val_accuracy: 0.7592\n",
            "Epoch 31/50\n",
            "153/153 [==============================] - 0s 2ms/step - loss: 0.4269 - accuracy: 0.7987 - val_loss: 0.5671 - val_accuracy: 0.7592\n",
            "Epoch 32/50\n",
            "153/153 [==============================] - 0s 2ms/step - loss: 0.4237 - accuracy: 0.8015 - val_loss: 0.5800 - val_accuracy: 0.7592\n",
            "Epoch 33/50\n",
            "153/153 [==============================] - 0s 2ms/step - loss: 0.4225 - accuracy: 0.8016 - val_loss: 0.5749 - val_accuracy: 0.7592\n",
            "Epoch 34/50\n",
            "153/153 [==============================] - 0s 2ms/step - loss: 0.4221 - accuracy: 0.8021 - val_loss: 0.5923 - val_accuracy: 0.7592\n",
            "Epoch 35/50\n",
            "153/153 [==============================] - 0s 2ms/step - loss: 0.4219 - accuracy: 0.8001 - val_loss: 0.5665 - val_accuracy: 0.7592\n",
            "Epoch 36/50\n",
            "153/153 [==============================] - 0s 2ms/step - loss: 0.4207 - accuracy: 0.8015 - val_loss: 0.5649 - val_accuracy: 0.7592\n",
            "Epoch 37/50\n",
            "153/153 [==============================] - 0s 3ms/step - loss: 0.4185 - accuracy: 0.8052 - val_loss: 0.6118 - val_accuracy: 0.7592\n",
            "Epoch 38/50\n",
            "153/153 [==============================] - 0s 2ms/step - loss: 0.4174 - accuracy: 0.8041 - val_loss: 0.6014 - val_accuracy: 0.7592\n",
            "Epoch 39/50\n",
            "153/153 [==============================] - 0s 2ms/step - loss: 0.4177 - accuracy: 0.8034 - val_loss: 0.5700 - val_accuracy: 0.7592\n",
            "Epoch 40/50\n",
            "153/153 [==============================] - 0s 2ms/step - loss: 0.4175 - accuracy: 0.8064 - val_loss: 0.6245 - val_accuracy: 0.7592\n",
            "Epoch 41/50\n",
            "153/153 [==============================] - 0s 2ms/step - loss: 0.4169 - accuracy: 0.8049 - val_loss: 0.6043 - val_accuracy: 0.7592\n",
            "Epoch 42/50\n",
            "153/153 [==============================] - 0s 2ms/step - loss: 0.4156 - accuracy: 0.8052 - val_loss: 0.6181 - val_accuracy: 0.7592\n",
            "Epoch 43/50\n",
            "153/153 [==============================] - 0s 2ms/step - loss: 0.4149 - accuracy: 0.8075 - val_loss: 0.5976 - val_accuracy: 0.7592\n",
            "Epoch 44/50\n",
            "153/153 [==============================] - 0s 2ms/step - loss: 0.4186 - accuracy: 0.8038 - val_loss: 0.5906 - val_accuracy: 0.7592\n",
            "Epoch 45/50\n",
            "153/153 [==============================] - 0s 2ms/step - loss: 0.4170 - accuracy: 0.8061 - val_loss: 0.6324 - val_accuracy: 0.7592\n",
            "Epoch 46/50\n",
            "153/153 [==============================] - 0s 3ms/step - loss: 0.4156 - accuracy: 0.8054 - val_loss: 0.6400 - val_accuracy: 0.7592\n",
            "Epoch 47/50\n",
            "153/153 [==============================] - 0s 2ms/step - loss: 0.4155 - accuracy: 0.8058 - val_loss: 0.6360 - val_accuracy: 0.7592\n",
            "Epoch 48/50\n",
            "153/153 [==============================] - 0s 2ms/step - loss: 0.4134 - accuracy: 0.8068 - val_loss: 0.6443 - val_accuracy: 0.7592\n",
            "Epoch 49/50\n",
            "153/153 [==============================] - 0s 2ms/step - loss: 0.4130 - accuracy: 0.8079 - val_loss: 0.6128 - val_accuracy: 0.7592\n",
            "Epoch 50/50\n",
            "153/153 [==============================] - 0s 2ms/step - loss: 0.4126 - accuracy: 0.8064 - val_loss: 0.6489 - val_accuracy: 0.7592\n"
          ]
        }
      ],
      "source": [
        "history = model.fit(X_train, y_train,\n",
        "                    validation_data = (X_valid, y_valid),\n",
        "                    batch_size = BATCH_SIZE,\n",
        "                    epochs=EPOCHS)\n"
      ]
    },
    {
      "cell_type": "code",
      "execution_count": null,
      "metadata": {
        "colab": {
          "base_uri": "https://localhost:8080/",
          "height": 368
        },
        "id": "uFUX19HDzzdh",
        "outputId": "881bdccb-f3fe-492e-ee1e-eb362822d784"
      },
      "outputs": [
        {
          "output_type": "display_data",
          "data": {
            "text/plain": [
              "<Figure size 800x400 with 2 Axes>"
            ],
            "image/png": "[encoded data removed]"
          },
          "metadata": {}
        }
      ],
      "source": [
        "plot_train_valid_history(history)"
      ]
    },
    {
      "cell_type": "markdown",
      "metadata": {
        "id": "xGllz8cvmMMj"
      },
      "source": [
        "## Question 1\n",
        "- How does the model behave. Can you see any overfitting or undergitting problems?\n",
        "- How you can prevent these problems?"
      ]
    },
    {
      "cell_type": "markdown",
      "metadata": {
        "id": "U32kEWK4mMMk"
      },
      "source": [
        "## Task 2\n",
        "Normalize your features. Use StandardScaler from sklearn.preprocessing library. Then train your model on the normalized features. Did it change anything with the behaviour of the model?"
      ]
    },
    {
      "cell_type": "code",
      "execution_count": null,
      "metadata": {
        "id": "K9sYd_bLmMMk"
      },
      "outputs": [],
      "source": [
        "from sklearn.preprocessing import StandardScaler\n",
        "scaler = StandardScaler()\n",
        "X_train_scaled  = scaler.fit_transform(X_train)\n",
        "X_test_scaled = scaler.transform(X_test)\n",
        "X_valid_scaled = scaler.transform(X_valid)\n"
      ]
    },
    {
      "cell_type": "code",
      "execution_count": null,
      "metadata": {
        "colab": {
          "base_uri": "https://localhost:8080/"
        },
        "id": "GkEXwM7MmMMk",
        "outputId": "a7b0d31e-3904-49f5-df9e-441f671df838"
      },
      "outputs": [
        {
          "output_type": "stream",
          "name": "stderr",
          "text": [
            "WARNING:absl:`lr` is deprecated in Keras optimizer, please use `learning_rate` or use the legacy optimizer, e.g.,tf.keras.optimizers.legacy.Adam.\n"
          ]
        },
        {
          "output_type": "stream",
          "name": "stdout",
          "text": [
            "Model: \"sequential_2\"\n",
            "_________________________________________________________________\n",
            " Layer (type)                Output Shape              Param #   \n",
            "=================================================================\n",
            " dense_6 (Dense)             (None, 32)                768       \n",
            "                                                                 \n",
            " dropout_1 (Dropout)         (None, 32)                0         \n",
            "                                                                 \n",
            " dense_7 (Dense)             (None, 32)                1056      \n",
            "                                                                 \n",
            " dense_8 (Dense)             (None, 1)                 33        \n",
            "                                                                 \n",
            "=================================================================\n",
            "Total params: 1,857\n",
            "Trainable params: 1,857\n",
            "Non-trainable params: 0\n",
            "_________________________________________________________________\n"
          ]
        }
      ],
      "source": [
        "# Create and train the model\n",
        "model = create_model()"
      ]
    },
    {
      "cell_type": "code",
      "execution_count": null,
      "metadata": {
        "colab": {
          "base_uri": "https://localhost:8080/"
        },
        "id": "_z4-zy4dCv3s",
        "outputId": "255c2ed6-245f-4636-ee6e-005eb979af1b"
      },
      "outputs": [
        {
          "output_type": "stream",
          "name": "stdout",
          "text": [
            "Epoch 1/50\n",
            "153/153 [==============================] - 2s 5ms/step - loss: 0.5484 - accuracy: 0.7199 - val_loss: 0.4403 - val_accuracy: 0.7961\n",
            "Epoch 2/50\n",
            "153/153 [==============================] - 0s 3ms/step - loss: 0.4596 - accuracy: 0.7816 - val_loss: 0.4123 - val_accuracy: 0.8170\n",
            "Epoch 3/50\n",
            "153/153 [==============================] - 0s 2ms/step - loss: 0.4417 - accuracy: 0.7905 - val_loss: 0.4053 - val_accuracy: 0.8193\n",
            "Epoch 4/50\n",
            "153/153 [==============================] - 0s 3ms/step - loss: 0.4318 - accuracy: 0.8003 - val_loss: 0.4011 - val_accuracy: 0.8216\n",
            "Epoch 5/50\n",
            "153/153 [==============================] - 0s 3ms/step - loss: 0.4255 - accuracy: 0.8028 - val_loss: 0.3970 - val_accuracy: 0.8226\n",
            "Epoch 6/50\n",
            "153/153 [==============================] - 0s 2ms/step - loss: 0.4201 - accuracy: 0.8041 - val_loss: 0.3955 - val_accuracy: 0.8225\n",
            "Epoch 7/50\n",
            "153/153 [==============================] - 0s 2ms/step - loss: 0.4222 - accuracy: 0.8056 - val_loss: 0.3950 - val_accuracy: 0.8222\n",
            "Epoch 8/50\n",
            "153/153 [==============================] - 0s 2ms/step - loss: 0.4158 - accuracy: 0.8063 - val_loss: 0.3929 - val_accuracy: 0.8243\n",
            "Epoch 9/50\n",
            "153/153 [==============================] - 0s 3ms/step - loss: 0.4162 - accuracy: 0.8078 - val_loss: 0.3928 - val_accuracy: 0.8220\n",
            "Epoch 10/50\n",
            "153/153 [==============================] - 0s 3ms/step - loss: 0.4117 - accuracy: 0.8113 - val_loss: 0.3920 - val_accuracy: 0.8232\n",
            "Epoch 11/50\n",
            "153/153 [==============================] - 0s 2ms/step - loss: 0.4089 - accuracy: 0.8117 - val_loss: 0.3896 - val_accuracy: 0.8229\n",
            "Epoch 12/50\n",
            "153/153 [==============================] - 0s 2ms/step - loss: 0.4101 - accuracy: 0.8111 - val_loss: 0.3911 - val_accuracy: 0.8243\n",
            "Epoch 13/50\n",
            "153/153 [==============================] - 0s 2ms/step - loss: 0.4075 - accuracy: 0.8133 - val_loss: 0.3914 - val_accuracy: 0.8226\n",
            "Epoch 14/50\n",
            "153/153 [==============================] - 0s 2ms/step - loss: 0.4056 - accuracy: 0.8130 - val_loss: 0.3916 - val_accuracy: 0.8223\n",
            "Epoch 15/50\n",
            "153/153 [==============================] - 0s 2ms/step - loss: 0.4058 - accuracy: 0.8123 - val_loss: 0.3921 - val_accuracy: 0.8237\n",
            "Epoch 16/50\n",
            "153/153 [==============================] - 0s 2ms/step - loss: 0.4054 - accuracy: 0.8140 - val_loss: 0.3914 - val_accuracy: 0.8240\n",
            "Epoch 17/50\n",
            "153/153 [==============================] - 0s 2ms/step - loss: 0.4043 - accuracy: 0.8153 - val_loss: 0.3935 - val_accuracy: 0.8223\n",
            "Epoch 18/50\n",
            "153/153 [==============================] - 0s 2ms/step - loss: 0.4028 - accuracy: 0.8149 - val_loss: 0.3918 - val_accuracy: 0.8220\n",
            "Epoch 19/50\n",
            "153/153 [==============================] - 0s 3ms/step - loss: 0.4035 - accuracy: 0.8144 - val_loss: 0.3937 - val_accuracy: 0.8208\n",
            "Epoch 20/50\n",
            "153/153 [==============================] - 0s 2ms/step - loss: 0.4015 - accuracy: 0.8150 - val_loss: 0.3925 - val_accuracy: 0.8206\n",
            "Epoch 21/50\n",
            "153/153 [==============================] - 0s 2ms/step - loss: 0.4020 - accuracy: 0.8130 - val_loss: 0.3944 - val_accuracy: 0.8183\n",
            "Epoch 22/50\n",
            "153/153 [==============================] - 0s 2ms/step - loss: 0.4007 - accuracy: 0.8157 - val_loss: 0.3946 - val_accuracy: 0.8177\n",
            "Epoch 23/50\n",
            "153/153 [==============================] - 0s 2ms/step - loss: 0.4019 - accuracy: 0.8128 - val_loss: 0.3950 - val_accuracy: 0.8191\n",
            "Epoch 24/50\n",
            "153/153 [==============================] - 0s 2ms/step - loss: 0.4006 - accuracy: 0.8141 - val_loss: 0.3930 - val_accuracy: 0.8189\n",
            "Epoch 25/50\n",
            "153/153 [==============================] - 0s 2ms/step - loss: 0.4002 - accuracy: 0.8162 - val_loss: 0.3929 - val_accuracy: 0.8203\n",
            "Epoch 26/50\n",
            "153/153 [==============================] - 0s 2ms/step - loss: 0.3988 - accuracy: 0.8168 - val_loss: 0.3988 - val_accuracy: 0.8194\n",
            "Epoch 27/50\n",
            "153/153 [==============================] - 0s 3ms/step - loss: 0.3980 - accuracy: 0.8157 - val_loss: 0.3963 - val_accuracy: 0.8186\n",
            "Epoch 28/50\n",
            "153/153 [==============================] - 1s 6ms/step - loss: 0.3988 - accuracy: 0.8166 - val_loss: 0.3981 - val_accuracy: 0.8197\n",
            "Epoch 29/50\n",
            "153/153 [==============================] - 1s 4ms/step - loss: 0.3982 - accuracy: 0.8186 - val_loss: 0.3973 - val_accuracy: 0.8188\n",
            "Epoch 30/50\n",
            "153/153 [==============================] - 1s 3ms/step - loss: 0.3974 - accuracy: 0.8178 - val_loss: 0.4000 - val_accuracy: 0.8179\n",
            "Epoch 31/50\n",
            "153/153 [==============================] - 1s 4ms/step - loss: 0.3982 - accuracy: 0.8170 - val_loss: 0.4006 - val_accuracy: 0.8214\n",
            "Epoch 32/50\n",
            "153/153 [==============================] - 1s 3ms/step - loss: 0.3970 - accuracy: 0.8177 - val_loss: 0.4027 - val_accuracy: 0.8202\n",
            "Epoch 33/50\n",
            "153/153 [==============================] - 0s 2ms/step - loss: 0.3967 - accuracy: 0.8152 - val_loss: 0.4026 - val_accuracy: 0.8128\n",
            "Epoch 34/50\n",
            "153/153 [==============================] - 0s 3ms/step - loss: 0.3980 - accuracy: 0.8180 - val_loss: 0.4023 - val_accuracy: 0.8213\n",
            "Epoch 35/50\n",
            "153/153 [==============================] - 1s 3ms/step - loss: 0.3968 - accuracy: 0.8164 - val_loss: 0.4014 - val_accuracy: 0.8208\n",
            "Epoch 36/50\n",
            "153/153 [==============================] - 0s 2ms/step - loss: 0.3964 - accuracy: 0.8173 - val_loss: 0.4012 - val_accuracy: 0.8203\n",
            "Epoch 37/50\n",
            "153/153 [==============================] - 0s 2ms/step - loss: 0.3957 - accuracy: 0.8158 - val_loss: 0.4025 - val_accuracy: 0.8183\n",
            "Epoch 38/50\n",
            "153/153 [==============================] - 0s 2ms/step - loss: 0.3955 - accuracy: 0.8175 - val_loss: 0.4009 - val_accuracy: 0.8206\n",
            "Epoch 39/50\n",
            "153/153 [==============================] - 0s 3ms/step - loss: 0.3963 - accuracy: 0.8164 - val_loss: 0.3976 - val_accuracy: 0.8206\n",
            "Epoch 40/50\n",
            "153/153 [==============================] - 1s 4ms/step - loss: 0.3955 - accuracy: 0.8165 - val_loss: 0.3983 - val_accuracy: 0.8197\n",
            "Epoch 41/50\n",
            "153/153 [==============================] - 1s 4ms/step - loss: 0.3942 - accuracy: 0.8178 - val_loss: 0.3956 - val_accuracy: 0.8205\n",
            "Epoch 42/50\n",
            "153/153 [==============================] - 1s 5ms/step - loss: 0.3948 - accuracy: 0.8158 - val_loss: 0.4042 - val_accuracy: 0.8209\n",
            "Epoch 43/50\n",
            "153/153 [==============================] - 1s 5ms/step - loss: 0.3960 - accuracy: 0.8180 - val_loss: 0.4024 - val_accuracy: 0.8219\n",
            "Epoch 44/50\n",
            "153/153 [==============================] - 1s 4ms/step - loss: 0.3957 - accuracy: 0.8165 - val_loss: 0.4008 - val_accuracy: 0.8214\n",
            "Epoch 45/50\n",
            "153/153 [==============================] - 1s 5ms/step - loss: 0.3945 - accuracy: 0.8181 - val_loss: 0.4013 - val_accuracy: 0.8208\n",
            "Epoch 46/50\n",
            "153/153 [==============================] - 1s 6ms/step - loss: 0.3955 - accuracy: 0.8179 - val_loss: 0.4005 - val_accuracy: 0.8231\n",
            "Epoch 47/50\n",
            "153/153 [==============================] - 1s 6ms/step - loss: 0.3939 - accuracy: 0.8187 - val_loss: 0.4037 - val_accuracy: 0.8196\n",
            "Epoch 48/50\n",
            "153/153 [==============================] - 1s 6ms/step - loss: 0.3932 - accuracy: 0.8207 - val_loss: 0.3991 - val_accuracy: 0.8206\n",
            "Epoch 49/50\n",
            "153/153 [==============================] - 1s 4ms/step - loss: 0.3951 - accuracy: 0.8169 - val_loss: 0.4076 - val_accuracy: 0.8219\n",
            "Epoch 50/50\n",
            "153/153 [==============================] - 1s 4ms/step - loss: 0.3948 - accuracy: 0.8182 - val_loss: 0.4019 - val_accuracy: 0.8220\n"
          ]
        }
      ],
      "source": [
        "history = model.fit(X_train_scaled, y_train,\n",
        "                    validation_data = (X_valid_scaled, y_valid),\n",
        "                    batch_size = BATCH_SIZE,\n",
        "                    epochs=EPOCHS)"
      ]
    },
    {
      "cell_type": "code",
      "execution_count": null,
      "metadata": {
        "colab": {
          "base_uri": "https://localhost:8080/",
          "height": 368
        },
        "id": "WfHvD--9mMMk",
        "outputId": "bedd9f5a-fdee-4365-e9dd-92a4f23e7ab4"
      },
      "outputs": [
        {
          "output_type": "display_data",
          "data": {
            "text/plain": [
              "<Figure size 800x400 with 2 Axes>"
            ],
            "image/png": "[encoded data removed]"
          },
          "metadata": {}
        }
      ],
      "source": [
        "plot_train_valid_history(history)"
      ]
    },
    {
      "cell_type": "code",
      "execution_count": null,
      "metadata": {
        "colab": {
          "base_uri": "https://localhost:8080/"
        },
        "id": "RU0y-fH2mMMk",
        "outputId": "8b08ed27-e82f-42ae-ad00-8f7e5322ad90"
      },
      "outputs": [
        {
          "output_type": "stream",
          "name": "stdout",
          "text": [
            "204/204 [==============================] - 0s 2ms/step - loss: 0.4054 - accuracy: 0.8171\n",
            "Test score:  0.4054272472858429\n",
            "Test accuracy:  0.8171349763870239\n"
          ]
        }
      ],
      "source": [
        "score, acc = model.evaluate(X_test_scaled, y_test)\n",
        "\n",
        "print('Test score: ', score)\n",
        "print('Test accuracy: ', acc)"
      ]
    },
    {
      "cell_type": "code",
      "execution_count": null,
      "metadata": {
        "id": "4niQujYFmMMl"
      },
      "outputs": [],
      "source": []
    }
  ],
  "metadata": {
    "colab": {
      "provenance": [],
      "include_colab_link": true
    },
    "kernelspec": {
      "display_name": "Python 3",
      "language": "python",
      "name": "python3"
    },
    "language_info": {
      "codemirror_mode": {
        "name": "ipython",
        "version": 3
      },
      "file_extension": ".py",
      "mimetype": "text/x-python",
      "name": "python",
      "nbconvert_exporter": "python",
      "pygments_lexer": "ipython3",
      "version": "3.8.8"
    }
  },
  "nbformat": 4,
  "nbformat_minor": 0
}